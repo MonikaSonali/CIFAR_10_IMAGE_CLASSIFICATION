{
  "nbformat": 4,
  "nbformat_minor": 0,
  "metadata": {
    "accelerator": "GPU",
    "colab": {
      "name": "CIFAR_10_IMAGE_CLASSIFICATION_WITH_CNN.ipynb",
      "provenance": [],
      "collapsed_sections": [
        "lngkFSR283_o"
      ]
    },
    "kernelspec": {
      "display_name": "Python 3",
      "name": "python3"
    }
  },
  "cells": [
    {
      "cell_type": "markdown",
      "metadata": {
        "id": "view-in-github"
      },
      "source": [
        "<a href=\"https://colab.research.google.com/github/AmitHasanShuvo/Machine-Learning-Projects/blob/master/CIFAR_Images_classification_using_CNN.ipynb\" target=\"_parent\"><img src=\"https://colab.research.google.com/assets/colab-badge.svg\" alt=\"Open In Colab\"/></a>"
      ]
    },
    {
      "cell_type": "markdown",
      "metadata": {
        "id": "XoP2eGQL6NxT"
      },
      "source": [
        " # CIFAR 10 CLASSIFICATION\r\n"
      ]
    },
    {
      "cell_type": "code",
      "metadata": {
        "id": "BJOTtc0h-KBW"
      },
      "source": [
        "import tensorflow as tf\n",
        "import matplotlib.pyplot as plt\n",
        "import numpy as np\n",
        "import pandas as pd\n",
        "from tensorflow.keras import datasets,models,layers\n",
        "from tensorflow.keras.layers import Dense, Conv2D, MaxPool2D, Flatten, Dropout, BatchNormalization"
      ],
      "execution_count": null,
      "outputs": []
    },
    {
      "cell_type": "code",
      "metadata": {
        "id": "_0XntK-9-Xni"
      },
      "source": [
        "data = tf.keras.datasets.cifar10\n",
        "# The CIFAR10 dataset contains 60,000 color images in 10 classes, \n",
        "# with 6,000 images in each class. The dataset is divided into 50,000 training\n",
        "# images and 10,000 testing images.\n"
      ],
      "execution_count": null,
      "outputs": []
    },
    {
      "cell_type": "markdown",
      "metadata": {
        "id": "zrqi5KTDn_6E"
      },
      "source": [
        "### **ANALYSING THE DATA**"
      ]
    },
    {
      "cell_type": "code",
      "metadata": {
        "id": "w4E5rpfa-rHw"
      },
      "source": [
        "(train_images, train_labels), (test_images, test_labels) = data.load_data()"
      ],
      "execution_count": null,
      "outputs": []
    },
    {
      "cell_type": "code",
      "metadata": {
        "colab": {
          "base_uri": "https://localhost:8080/"
        },
        "id": "cjRHOlA7-3Xs",
        "outputId": "f7a10e9d-9e2c-46e8-d125-b333d5c07376"
      },
      "source": [
        "train_images.shape"
      ],
      "execution_count": null,
      "outputs": [
        {
          "output_type": "execute_result",
          "data": {
            "text/plain": [
              "(50000, 32, 32, 3)"
            ]
          },
          "metadata": {
            "tags": []
          },
          "execution_count": 4
        }
      ]
    },
    {
      "cell_type": "code",
      "metadata": {
        "colab": {
          "base_uri": "https://localhost:8080/"
        },
        "id": "sKrZe-hG_Zg5",
        "outputId": "9f3d03d6-cbae-4a18-ecdc-37295e20eb6b"
      },
      "source": [
        "test_images.shape\n"
      ],
      "execution_count": null,
      "outputs": [
        {
          "output_type": "execute_result",
          "data": {
            "text/plain": [
              "(10000, 32, 32, 3)"
            ]
          },
          "metadata": {
            "tags": []
          },
          "execution_count": 5
        }
      ]
    },
    {
      "cell_type": "code",
      "metadata": {
        "colab": {
          "base_uri": "https://localhost:8080/"
        },
        "id": "UOifud8SCCe2",
        "outputId": "7900e224-83dd-4684-8a17-bd25c2355391"
      },
      "source": [
        "print(train_labels[0])"
      ],
      "execution_count": null,
      "outputs": [
        {
          "output_type": "stream",
          "text": [
            "[6]\n"
          ],
          "name": "stdout"
        }
      ]
    },
    {
      "cell_type": "code",
      "metadata": {
        "colab": {
          "base_uri": "https://localhost:8080/"
        },
        "id": "LQ-xHbc-AdbQ",
        "outputId": "c2485095-3546-435f-8f27-24289ca6723f"
      },
      "source": [
        "\n",
        "print(train_images[1])"
      ],
      "execution_count": null,
      "outputs": [
        {
          "output_type": "stream",
          "text": [
            "[[[154 177 187]\n",
            "  [126 137 136]\n",
            "  [105 104  95]\n",
            "  ...\n",
            "  [ 91  95  71]\n",
            "  [ 87  90  71]\n",
            "  [ 79  81  70]]\n",
            "\n",
            " [[140 160 169]\n",
            "  [145 153 154]\n",
            "  [125 125 118]\n",
            "  ...\n",
            "  [ 96  99  78]\n",
            "  [ 77  80  62]\n",
            "  [ 71  73  61]]\n",
            "\n",
            " [[140 155 164]\n",
            "  [139 146 149]\n",
            "  [115 115 112]\n",
            "  ...\n",
            "  [ 79  82  64]\n",
            "  [ 68  70  55]\n",
            "  [ 67  69  55]]\n",
            "\n",
            " ...\n",
            "\n",
            " [[175 167 166]\n",
            "  [156 154 160]\n",
            "  [154 160 170]\n",
            "  ...\n",
            "  [ 42  34  36]\n",
            "  [ 61  53  57]\n",
            "  [ 93  83  91]]\n",
            "\n",
            " [[165 154 128]\n",
            "  [156 152 130]\n",
            "  [159 161 142]\n",
            "  ...\n",
            "  [103  93  96]\n",
            "  [123 114 120]\n",
            "  [131 121 131]]\n",
            "\n",
            " [[163 148 120]\n",
            "  [158 148 122]\n",
            "  [163 156 133]\n",
            "  ...\n",
            "  [143 133 139]\n",
            "  [143 134 142]\n",
            "  [143 133 144]]]\n"
          ],
          "name": "stdout"
        }
      ]
    },
    {
      "cell_type": "code",
      "metadata": {
        "colab": {
          "base_uri": "https://localhost:8080/",
          "height": 265
        },
        "id": "y-ZX9DWRBQuT",
        "outputId": "41c11e9a-f60c-402c-a77c-0b2ca564fce9"
      },
      "source": [
        "plt.figure()\n",
        "plt.imshow(train_images[7]) # Plotting the 7th image of the dataset\n",
        "plt.colorbar()\n",
        "plt.grid(False)\n",
        "\n",
        "plt.show()"
      ],
      "execution_count": null,
      "outputs": [
        {
          "output_type": "display_data",
          "data": {
            "image/png": "[encoded data removed]",
            "text/plain": [
              "<Figure size 432x288 with 2 Axes>"
            ]
          },
          "metadata": {
            "tags": []
          }
        }
      ]
    },
    {
      "cell_type": "code",
      "metadata": {
        "colab": {
          "base_uri": "https://localhost:8080/",
          "height": 267
        },
        "id": "gK5dO_UCBagS",
        "outputId": "2839dd5c-4c52-4b26-b151-6dbca445ae21"
      },
      "source": [
        "for i in range(9):      #Plotting first 9 images of the CIFAR 10 dataset\n",
        "\t# define subplot\n",
        "\tplt.subplot(330 + 1 + i)\n",
        "\t# plot raw pixel data\n",
        "\tplt.imshow(train_images[i])\n",
        "plt.show()"
      ],
      "execution_count": null,
      "outputs": [
        {
          "output_type": "display_data",
          "data": {
            "image/png": "[encoded data removed]",
            "text/plain": [
              "<Figure size 432x288 with 9 Axes>"
            ]
          },
          "metadata": {
            "tags": []
          }
        }
      ]
    },
    {
      "cell_type": "markdown",
      "metadata": {
        "id": "SFH7_afdoMhk"
      },
      "source": [
        ""
      ]
    },
    {
      "cell_type": "markdown",
      "metadata": {
        "id": "KcqkYcTun5H7"
      },
      "source": [
        "### NORMALISE"
      ]
    },
    {
      "cell_type": "code",
      "metadata": {
        "id": "8-UvlUONFRuv"
      },
      "source": [
        "\n",
        "\n",
        "train_images, test_images = train_images / 255.0, test_images / 255.0\n"
      ],
      "execution_count": null,
      "outputs": []
    },
    {
      "cell_type": "markdown",
      "metadata": {
        "id": "sfEO7ZiroHxn"
      },
      "source": [
        "## **MODELLING**"
      ]
    },
    {
      "cell_type": "code",
      "metadata": {
        "id": "YcxRj8L1H1Qq"
      },
      "source": [
        "model1 = tf.keras.models.Sequential([\n",
        "                        tf.keras.layers.Conv2D(32, (3, 3), activation='relu', input_shape=(32, 32, 3)),\n",
        "                        tf.keras.layers.MaxPooling2D(2, 2),\n",
        "\n",
        "                        tf.keras.layers.Conv2D(64, (3, 3), activation='relu'),\n",
        "                        tf.keras.layers.MaxPooling2D(2, 2),\n",
        "\n",
        "                        tf.keras.layers.Conv2D(64, (3, 3), activation='relu'),\n",
        "                        tf.keras.layers.Flatten(),\n",
        "                        \n",
        "                        tf.keras.layers.Dense(128, activation='relu'),\n",
        "                        tf.keras.layers.Dense(10, activation='softmax')])\n",
        "\n"
      ],
      "execution_count": null,
      "outputs": []
    },
    {
      "cell_type": "code",
      "metadata": {
        "colab": {
          "base_uri": "https://localhost:8080/"
        },
        "id": "uayWzDZLJI9R",
        "outputId": "a9d17f67-4c58-4583-f022-21874fb23507"
      },
      "source": [
        "model1.summary()"
      ],
      "execution_count": null,
      "outputs": [
        {
          "output_type": "stream",
          "text": [
            "Model: \"sequential\"\n",
            "_________________________________________________________________\n",
            "Layer (type)                 Output Shape              Param #   \n",
            "=================================================================\n",
            "conv2d (Conv2D)              (None, 30, 30, 32)        896       \n",
            "_________________________________________________________________\n",
            "max_pooling2d (MaxPooling2D) (None, 15, 15, 32)        0         \n",
            "_________________________________________________________________\n",
            "conv2d_1 (Conv2D)            (None, 13, 13, 64)        18496     \n",
            "_________________________________________________________________\n",
            "max_pooling2d_1 (MaxPooling2 (None, 6, 6, 64)          0         \n",
            "_________________________________________________________________\n",
            "conv2d_2 (Conv2D)            (None, 4, 4, 64)          36928     \n",
            "_________________________________________________________________\n",
            "flatten (Flatten)            (None, 1024)              0         \n",
            "_________________________________________________________________\n",
            "dense (Dense)                (None, 128)               131200    \n",
            "_________________________________________________________________\n",
            "dense_1 (Dense)              (None, 10)                1290      \n",
            "=================================================================\n",
            "Total params: 188,810\n",
            "Trainable params: 188,810\n",
            "Non-trainable params: 0\n",
            "_________________________________________________________________\n"
          ],
          "name": "stdout"
        }
      ]
    },
    {
      "cell_type": "code",
      "metadata": {
        "colab": {
          "base_uri": "https://localhost:8080/"
        },
        "id": "MhW57kW8JKxL",
        "outputId": "180a95ac-548b-4f1c-e5d1-c6907ff7b1da"
      },
      "source": [
        "model1.compile(optimizer='adam', loss='sparse_categorical_crossentropy', metrics=['accuracy'])\n",
        "\n",
        "history = model1.fit(train_images, train_labels, epochs=20, \n",
        "                    validation_data=(test_images, test_labels))"
      ],
      "execution_count": null,
      "outputs": [
        {
          "output_type": "stream",
          "text": [
            "Epoch 1/20\n",
            "1563/1563 [==============================] - 9s 4ms/step - loss: 1.7372 - accuracy: 0.3488 - val_loss: 1.1969 - val_accuracy: 0.5712\n",
            "Epoch 2/20\n",
            "1563/1563 [==============================] - 5s 4ms/step - loss: 1.1721 - accuracy: 0.5823 - val_loss: 1.0329 - val_accuracy: 0.6343\n",
            "Epoch 3/20\n",
            "1563/1563 [==============================] - 5s 3ms/step - loss: 0.9881 - accuracy: 0.6540 - val_loss: 0.9514 - val_accuracy: 0.6683\n",
            "Epoch 4/20\n",
            "1563/1563 [==============================] - 5s 3ms/step - loss: 0.8608 - accuracy: 0.6976 - val_loss: 0.9139 - val_accuracy: 0.6781\n",
            "Epoch 5/20\n",
            "1563/1563 [==============================] - 5s 3ms/step - loss: 0.7738 - accuracy: 0.7258 - val_loss: 0.8888 - val_accuracy: 0.6932\n",
            "Epoch 6/20\n",
            "1563/1563 [==============================] - 5s 3ms/step - loss: 0.7049 - accuracy: 0.7524 - val_loss: 0.8906 - val_accuracy: 0.6932\n",
            "Epoch 7/20\n",
            "1563/1563 [==============================] - 6s 4ms/step - loss: 0.6459 - accuracy: 0.7707 - val_loss: 0.8680 - val_accuracy: 0.7055\n",
            "Epoch 8/20\n",
            "1563/1563 [==============================] - 5s 3ms/step - loss: 0.5934 - accuracy: 0.7911 - val_loss: 0.8835 - val_accuracy: 0.7073\n",
            "Epoch 9/20\n",
            "1563/1563 [==============================] - 5s 3ms/step - loss: 0.5424 - accuracy: 0.8068 - val_loss: 0.8924 - val_accuracy: 0.7059\n",
            "Epoch 10/20\n",
            "1563/1563 [==============================] - 5s 3ms/step - loss: 0.4972 - accuracy: 0.8261 - val_loss: 0.9031 - val_accuracy: 0.7049\n",
            "Epoch 11/20\n",
            "1563/1563 [==============================] - 5s 3ms/step - loss: 0.4605 - accuracy: 0.8375 - val_loss: 0.9118 - val_accuracy: 0.7128\n",
            "Epoch 12/20\n",
            "1563/1563 [==============================] - 5s 3ms/step - loss: 0.4131 - accuracy: 0.8539 - val_loss: 0.9461 - val_accuracy: 0.7136\n",
            "Epoch 13/20\n",
            "1563/1563 [==============================] - 5s 3ms/step - loss: 0.3757 - accuracy: 0.8661 - val_loss: 1.0341 - val_accuracy: 0.7029\n",
            "Epoch 14/20\n",
            "1563/1563 [==============================] - 5s 3ms/step - loss: 0.3419 - accuracy: 0.8790 - val_loss: 1.0487 - val_accuracy: 0.7098\n",
            "Epoch 15/20\n",
            "1563/1563 [==============================] - 5s 3ms/step - loss: 0.2979 - accuracy: 0.8942 - val_loss: 1.1499 - val_accuracy: 0.7027\n",
            "Epoch 16/20\n",
            "1563/1563 [==============================] - 5s 3ms/step - loss: 0.2832 - accuracy: 0.9001 - val_loss: 1.1958 - val_accuracy: 0.7015\n",
            "Epoch 17/20\n",
            "1563/1563 [==============================] - 5s 3ms/step - loss: 0.2401 - accuracy: 0.9145 - val_loss: 1.2847 - val_accuracy: 0.7012\n",
            "Epoch 18/20\n",
            "1563/1563 [==============================] - 5s 3ms/step - loss: 0.2329 - accuracy: 0.9176 - val_loss: 1.3810 - val_accuracy: 0.6876\n",
            "Epoch 19/20\n",
            "1563/1563 [==============================] - 6s 4ms/step - loss: 0.2158 - accuracy: 0.9235 - val_loss: 1.4096 - val_accuracy: 0.6971\n",
            "Epoch 20/20\n",
            "1563/1563 [==============================] - 5s 3ms/step - loss: 0.1989 - accuracy: 0.9300 - val_loss: 1.4734 - val_accuracy: 0.6956\n"
          ],
          "name": "stdout"
        }
      ]
    },
    {
      "cell_type": "code",
      "metadata": {
        "colab": {
          "base_uri": "https://localhost:8080/",
          "height": 71
        },
        "id": "LKsXT41rJ5Kg",
        "outputId": "17eadbc1-cbc1-432a-a2f2-27192c72b820"
      },
      "source": [
        "\n",
        "plt.plot(history.history['accuracy'], label='accuracy')\n",
        "plt.plot(history.history['val_accuracy'], label = 'val_accuracy')\n",
        "plt.xlabel('Epoch')\n",
        "plt.ylabel('Accuracy')\n",
        "plt.ylim([0.5, 1])\n",
        "plt.legend(loc='lower right')"
      ],
      "execution_count": null,
      "outputs": [
        {
          "output_type": "execute_result",
          "data": {
            "text/plain": [
              "<matplotlib.legend.Legend at 0x7fafefc67cf8>"
            ]
          },
          "metadata": {
            "tags": []
          },
          "execution_count": 14
        },
        {
          "output_type": "display_data",
          "data": {
            "image/png": "[encoded data removed]",
            "text/plain": [
              "<Figure size 432x288 with 1 Axes>"
            ]
          },
          "metadata": {
            "tags": []
          }
        }
      ]
    },
    {
      "cell_type": "markdown",
      "metadata": {
        "id": "lngkFSR283_o"
      },
      "source": [
        " ## ***MODEL 2 - DEEP NETWORK WITH DILATED CONVOLUTION***\r\n",
        "\r\n",
        "---\r\n",
        "\r\n"
      ]
    },
    {
      "cell_type": "code",
      "metadata": {
        "id": "5q5WH0emSAFe"
      },
      "source": [
        "model2 = tf.keras.models.Sequential([\r\n",
        "                        tf.keras.layers.Conv2D(32, (3, 3),strides=(2,2), activation='relu', padding='same',input_shape=(32, 32, 3)),\r\n",
        "                        tf.keras.layers.Conv2D(32, (3, 3), activation='relu',padding='same'),\r\n",
        "                        tf.keras.layers.MaxPooling2D(2, 2),\r\n",
        "\r\n",
        "                        tf.keras.layers.Conv2D(64, (3, 3), dilation_rate=2, activation='relu',padding='same'),\r\n",
        "                        tf.keras.layers.Conv2D(64, (3, 3), activation='relu',padding='same'),\r\n",
        "                        tf.keras.layers.Conv2D(64, (3, 3), activation='relu',padding='same'),\r\n",
        "                        tf.keras.layers.MaxPooling2D(2, 2),\r\n",
        "\r\n",
        "                        tf.keras.layers.Conv2D(64, (3, 3),dilation_rate=2, activation='relu',padding='same'),\r\n",
        "                        tf.keras.layers.Conv2D(64, (3, 3),dilation_rate=2, activation='relu',padding='same'),\r\n",
        "                        tf.keras.layers.MaxPooling2D(2, 2),\r\n",
        "\r\n",
        "                        tf.keras.layers.Conv2D(64, (3, 3),dilation_rate=2, activation='relu',padding='same'),\r\n",
        "                        tf.keras.layers.MaxPooling2D(2, 2),\r\n",
        "\r\n",
        "                        tf.keras.layers.Conv2D(64, (3, 3),dilation_rate=2, activation='relu',padding='same'),\r\n",
        "                        tf.keras.layers.Flatten(),\r\n",
        "\r\n",
        "                        tf.keras.layers.Dense(128, activation='relu'),\r\n",
        "                        tf.keras.layers.Dense(10, activation='softmax')])"
      ],
      "execution_count": null,
      "outputs": []
    },
    {
      "cell_type": "code",
      "metadata": {
        "colab": {
          "base_uri": "https://localhost:8080/"
        },
        "id": "dE4cd9atR_gR",
        "outputId": "29560ab0-8ccb-4183-c78c-00a2d672a572"
      },
      "source": [
        "model2.summary()"
      ],
      "execution_count": null,
      "outputs": [
        {
          "output_type": "stream",
          "text": [
            "Model: \"sequential_1\"\n",
            "_________________________________________________________________\n",
            "Layer (type)                 Output Shape              Param #   \n",
            "=================================================================\n",
            "conv2d_3 (Conv2D)            (None, 16, 16, 32)        896       \n",
            "_________________________________________________________________\n",
            "conv2d_4 (Conv2D)            (None, 16, 16, 32)        9248      \n",
            "_________________________________________________________________\n",
            "max_pooling2d_2 (MaxPooling2 (None, 8, 8, 32)          0         \n",
            "_________________________________________________________________\n",
            "conv2d_5 (Conv2D)            (None, 8, 8, 64)          18496     \n",
            "_________________________________________________________________\n",
            "conv2d_6 (Conv2D)            (None, 8, 8, 64)          36928     \n",
            "_________________________________________________________________\n",
            "conv2d_7 (Conv2D)            (None, 8, 8, 64)          36928     \n",
            "_________________________________________________________________\n",
            "max_pooling2d_3 (MaxPooling2 (None, 4, 4, 64)          0         \n",
            "_________________________________________________________________\n",
            "conv2d_8 (Conv2D)            (None, 4, 4, 64)          36928     \n",
            "_________________________________________________________________\n",
            "conv2d_9 (Conv2D)            (None, 4, 4, 64)          36928     \n",
            "_________________________________________________________________\n",
            "max_pooling2d_4 (MaxPooling2 (None, 2, 2, 64)          0         \n",
            "_________________________________________________________________\n",
            "conv2d_10 (Conv2D)           (None, 2, 2, 64)          36928     \n",
            "_________________________________________________________________\n",
            "max_pooling2d_5 (MaxPooling2 (None, 1, 1, 64)          0         \n",
            "_________________________________________________________________\n",
            "conv2d_11 (Conv2D)           (None, 1, 1, 64)          36928     \n",
            "_________________________________________________________________\n",
            "flatten_1 (Flatten)          (None, 64)                0         \n",
            "_________________________________________________________________\n",
            "dense_2 (Dense)              (None, 128)               8320      \n",
            "_________________________________________________________________\n",
            "dense_3 (Dense)              (None, 10)                1290      \n",
            "=================================================================\n",
            "Total params: 259,818\n",
            "Trainable params: 259,818\n",
            "Non-trainable params: 0\n",
            "_________________________________________________________________\n"
          ],
          "name": "stdout"
        }
      ]
    },
    {
      "cell_type": "code",
      "metadata": {
        "colab": {
          "background_save": true,
          "base_uri": "https://localhost:8080/"
        },
        "id": "uUnj20ZZR_c4",
        "outputId": "df144719-2685-4dbf-c9d4-f04d22b2b198"
      },
      "source": [
        "model2.compile(optimizer='adam', loss='sparse_categorical_crossentropy', metrics=['accuracy'])\r\n",
        "\r\n",
        "history2 = model2.fit(train_images, train_labels, epochs=20, \r\n",
        "                    validation_data=(test_images, test_labels))"
      ],
      "execution_count": null,
      "outputs": [
        {
          "output_type": "stream",
          "text": [
            "Epoch 1/20\n",
            "1563/1563 [==============================] - 9s 5ms/step - loss: 1.9963 - accuracy: 0.2221 - val_loss: 1.6202 - val_accuracy: 0.3823\n",
            "Epoch 2/20\n",
            "1563/1563 [==============================] - 8s 5ms/step - loss: 1.5111 - accuracy: 0.4249 - val_loss: 1.3477 - val_accuracy: 0.5101\n",
            "Epoch 3/20\n",
            "1563/1563 [==============================] - 8s 5ms/step - loss: 1.2516 - accuracy: 0.5430 - val_loss: 1.1888 - val_accuracy: 0.5697\n",
            "Epoch 4/20\n",
            "1563/1563 [==============================] - 8s 5ms/step - loss: 1.0999 - accuracy: 0.6073 - val_loss: 1.0732 - val_accuracy: 0.6142\n",
            "Epoch 5/20\n",
            "1563/1563 [==============================] - 8s 5ms/step - loss: 0.9815 - accuracy: 0.6518 - val_loss: 1.0484 - val_accuracy: 0.6309\n",
            "Epoch 6/20\n",
            "1563/1563 [==============================] - 8s 5ms/step - loss: 0.8931 - accuracy: 0.6854 - val_loss: 0.9855 - val_accuracy: 0.6498\n",
            "Epoch 7/20\n",
            "1563/1563 [==============================] - 8s 5ms/step - loss: 0.8256 - accuracy: 0.7067 - val_loss: 0.9738 - val_accuracy: 0.6627\n",
            "Epoch 8/20\n",
            "1563/1563 [==============================] - 8s 5ms/step - loss: 0.7556 - accuracy: 0.7354 - val_loss: 1.0003 - val_accuracy: 0.6639\n",
            "Epoch 9/20\n",
            "1563/1563 [==============================] - 8s 5ms/step - loss: 0.6952 - accuracy: 0.7555 - val_loss: 0.9581 - val_accuracy: 0.6741\n",
            "Epoch 10/20\n",
            "1563/1563 [==============================] - 8s 5ms/step - loss: 0.6416 - accuracy: 0.7743 - val_loss: 0.9819 - val_accuracy: 0.6729\n",
            "Epoch 11/20\n",
            "1563/1563 [==============================] - 7s 5ms/step - loss: 0.5885 - accuracy: 0.7941 - val_loss: 1.0848 - val_accuracy: 0.6539\n",
            "Epoch 12/20\n",
            "1563/1563 [==============================] - 8s 5ms/step - loss: 0.5491 - accuracy: 0.8086 - val_loss: 1.0261 - val_accuracy: 0.6659\n",
            "Epoch 13/20\n",
            "1563/1563 [==============================] - 8s 5ms/step - loss: 0.5173 - accuracy: 0.8221 - val_loss: 1.0130 - val_accuracy: 0.6826\n",
            "Epoch 14/20\n",
            "1563/1563 [==============================] - 8s 5ms/step - loss: 0.4722 - accuracy: 0.8343 - val_loss: 1.0325 - val_accuracy: 0.6813\n",
            "Epoch 15/20\n",
            "1563/1563 [==============================] - 8s 5ms/step - loss: 0.4393 - accuracy: 0.8463 - val_loss: 1.1008 - val_accuracy: 0.6808\n",
            "Epoch 16/20\n",
            "1563/1563 [==============================] - 7s 5ms/step - loss: 0.4147 - accuracy: 0.8560 - val_loss: 1.0760 - val_accuracy: 0.6763\n",
            "Epoch 17/20\n",
            "1563/1563 [==============================] - 8s 5ms/step - loss: 0.3789 - accuracy: 0.8690 - val_loss: 1.0841 - val_accuracy: 0.6831\n",
            "Epoch 18/20\n",
            "1563/1563 [==============================] - 8s 5ms/step - loss: 0.3527 - accuracy: 0.8768 - val_loss: 1.1692 - val_accuracy: 0.6784\n",
            "Epoch 19/20\n",
            "1563/1563 [==============================] - 8s 5ms/step - loss: 0.3402 - accuracy: 0.8821 - val_loss: 1.1978 - val_accuracy: 0.6817\n",
            "Epoch 20/20\n",
            "1563/1563 [==============================] - 7s 5ms/step - loss: 0.3309 - accuracy: 0.8850 - val_loss: 1.2632 - val_accuracy: 0.6733\n"
          ],
          "name": "stdout"
        }
      ]
    },
    {
      "cell_type": "code",
      "metadata": {
        "id": "yrkR7s_SR_aE"
      },
      "source": [
        "print(history2)\r\n",
        "print (\"Train Accuracy 2 =\" , history2.history['accuracy'])\r\n",
        "print(\"Test Accuracy 2= \" , history2.history['val_accuracy'])\r\n",
        "plt.plot(history2.history['accuracy'], label='accuracy')\r\n",
        "plt.plot(history2.history['val_accuracy'], label = 'val_accuracy')\r\n",
        "plt.title('MODEL 2 - DEEP WITH DILATION')\r\n",
        "plt.xlabel('Epoch')\r\n",
        "plt.ylabel('Accuracy')\r\n",
        "plt.ylim([0.5, 1])\r\n",
        "plt.legend(loc='lower right')\r\n",
        "train_acc2 = np.mean(history2.history['accuracy'])\r\n",
        "test_acc2 = np.mean(history2.history['val_accuracy'])\r\n",
        "print(\"AVERAGE TRAIN ACCURACY =\",train_acc2)\r\n",
        "print(\"AVERAGE TEST ACCURACY =\",test_acc2)"
      ],
      "execution_count": null,
      "outputs": []
    },
    {
      "cell_type": "markdown",
      "metadata": {
        "id": "c5X882Tjr2P1"
      },
      "source": [
        "## ***MODEL 3 - DEEP NETWORK WITHOUT DILATION***\r\n",
        "\r\n",
        "---\r\n",
        "\r\n"
      ]
    },
    {
      "cell_type": "code",
      "metadata": {
        "id": "A6pdQZaLR_Wl"
      },
      "source": [
        "model3 = tf.keras.models.Sequential([\r\n",
        "                        tf.keras.layers.Conv2D(32, (3, 3),strides=(2,2), activation='relu', padding='same',input_shape=(32, 32, 3)),\r\n",
        "                        tf.keras.layers.Conv2D(32, (3, 3), activation='relu',padding='same'),\r\n",
        "                        tf.keras.layers.MaxPooling2D(2, 2),\r\n",
        "\r\n",
        "                        tf.keras.layers.Conv2D(64, (3, 3),  activation='relu',padding='same'),\r\n",
        "                        tf.keras.layers.Conv2D(64, (3, 3), activation='relu',padding='same'),\r\n",
        "                        tf.keras.layers.Conv2D(64, (3, 3), activation='relu',padding='same'),\r\n",
        "                        tf.keras.layers.MaxPooling2D(2, 2),\r\n",
        "\r\n",
        "                        tf.keras.layers.Conv2D(64, (3, 3), activation='relu',padding='same'),\r\n",
        "                        tf.keras.layers.Conv2D(64, (3, 3), activation='relu',padding='same'),\r\n",
        "                        tf.keras.layers.MaxPooling2D(2, 2),\r\n",
        "\r\n",
        "                        tf.keras.layers.Conv2D(64, (3, 3), activation='relu',padding='same'),\r\n",
        "                        tf.keras.layers.MaxPooling2D(2, 2),\r\n",
        "\r\n",
        "                        tf.keras.layers.Conv2D(64, (3, 3), activation='relu',padding='same'),\r\n",
        "                        tf.keras.layers.Flatten(),\r\n",
        "\r\n",
        "                        tf.keras.layers.Dense(128, activation='relu'),\r\n",
        "                        tf.keras.layers.Dense(10, activation='softmax')])"
      ],
      "execution_count": null,
      "outputs": []
    },
    {
      "cell_type": "code",
      "metadata": {
        "id": "h3PeIaGXR_TY",
        "colab": {
          "base_uri": "https://localhost:8080/"
        },
        "outputId": "5d525a8f-1cf3-4a36-f683-5f8437700c0b"
      },
      "source": [
        "model3.compile(optimizer='adam', loss='sparse_categorical_crossentropy', metrics=['accuracy'])\r\n",
        "\r\n",
        "history3 = model3.fit(train_images, train_labels, epochs=20, \r\n",
        "                    validation_data=(test_images, test_labels))"
      ],
      "execution_count": 20,
      "outputs": [
        {
          "output_type": "stream",
          "text": [
            "Epoch 1/20\n",
            "1563/1563 [==============================] - 7s 4ms/step - loss: 1.9779 - accuracy: 0.2505 - val_loss: 1.5383 - val_accuracy: 0.4260\n",
            "Epoch 2/20\n",
            "1563/1563 [==============================] - 6s 4ms/step - loss: 1.4355 - accuracy: 0.4624 - val_loss: 1.2134 - val_accuracy: 0.5506\n",
            "Epoch 3/20\n",
            "1563/1563 [==============================] - 6s 4ms/step - loss: 1.1796 - accuracy: 0.5737 - val_loss: 1.0900 - val_accuracy: 0.6113\n",
            "Epoch 4/20\n",
            "1563/1563 [==============================] - 7s 4ms/step - loss: 1.0505 - accuracy: 0.6250 - val_loss: 1.1062 - val_accuracy: 0.6139\n",
            "Epoch 5/20\n",
            "1563/1563 [==============================] - 7s 4ms/step - loss: 0.9415 - accuracy: 0.6640 - val_loss: 1.0557 - val_accuracy: 0.6325\n",
            "Epoch 6/20\n",
            "1563/1563 [==============================] - 7s 4ms/step - loss: 0.8604 - accuracy: 0.6935 - val_loss: 0.9856 - val_accuracy: 0.6539\n",
            "Epoch 7/20\n",
            "1563/1563 [==============================] - 7s 4ms/step - loss: 0.7942 - accuracy: 0.7206 - val_loss: 0.9615 - val_accuracy: 0.6722\n",
            "Epoch 8/20\n",
            "1563/1563 [==============================] - 7s 4ms/step - loss: 0.7297 - accuracy: 0.7409 - val_loss: 0.9695 - val_accuracy: 0.6698\n",
            "Epoch 9/20\n",
            "1563/1563 [==============================] - 7s 4ms/step - loss: 0.6716 - accuracy: 0.7654 - val_loss: 0.9230 - val_accuracy: 0.6884\n",
            "Epoch 10/20\n",
            "1563/1563 [==============================] - 7s 4ms/step - loss: 0.6262 - accuracy: 0.7815 - val_loss: 0.9504 - val_accuracy: 0.6846\n",
            "Epoch 11/20\n",
            "1563/1563 [==============================] - 7s 4ms/step - loss: 0.5885 - accuracy: 0.7916 - val_loss: 0.9895 - val_accuracy: 0.6910\n",
            "Epoch 12/20\n",
            "1563/1563 [==============================] - 7s 4ms/step - loss: 0.5463 - accuracy: 0.8103 - val_loss: 0.9957 - val_accuracy: 0.6826\n",
            "Epoch 13/20\n",
            "1563/1563 [==============================] - 7s 4ms/step - loss: 0.5100 - accuracy: 0.8234 - val_loss: 1.0002 - val_accuracy: 0.6886\n",
            "Epoch 14/20\n",
            "1563/1563 [==============================] - 7s 4ms/step - loss: 0.4555 - accuracy: 0.8409 - val_loss: 0.9708 - val_accuracy: 0.6955\n",
            "Epoch 15/20\n",
            "1563/1563 [==============================] - 7s 4ms/step - loss: 0.4322 - accuracy: 0.8507 - val_loss: 1.0555 - val_accuracy: 0.6801\n",
            "Epoch 16/20\n",
            "1563/1563 [==============================] - 7s 4ms/step - loss: 0.4154 - accuracy: 0.8566 - val_loss: 1.0915 - val_accuracy: 0.6926\n",
            "Epoch 17/20\n",
            "1563/1563 [==============================] - 7s 4ms/step - loss: 0.3897 - accuracy: 0.8653 - val_loss: 1.1036 - val_accuracy: 0.6893\n",
            "Epoch 18/20\n",
            "1563/1563 [==============================] - 7s 4ms/step - loss: 0.3723 - accuracy: 0.8709 - val_loss: 1.1425 - val_accuracy: 0.6894\n",
            "Epoch 19/20\n",
            "1563/1563 [==============================] - 7s 4ms/step - loss: 0.3570 - accuracy: 0.8765 - val_loss: 1.1371 - val_accuracy: 0.6943\n",
            "Epoch 20/20\n",
            "1563/1563 [==============================] - 7s 4ms/step - loss: 0.3379 - accuracy: 0.8807 - val_loss: 1.1834 - val_accuracy: 0.6862\n"
          ],
          "name": "stdout"
        }
      ]
    },
    {
      "cell_type": "code",
      "metadata": {
        "id": "1x2HOuTGR_Qk",
        "colab": {
          "base_uri": "https://localhost:8080/",
          "height": 385
        },
        "outputId": "68c56835-4256-4c54-dfe9-68b880e92f82"
      },
      "source": [
        "print (\"Train Accuracy 3 =\" , history3.history['accuracy'])\r\n",
        "print(\"Test Accuracy 3 = \" , history3.history['val_accuracy'])\r\n",
        "plt.plot(history3.history['accuracy'], label='accuracy')\r\n",
        "plt.plot(history3.history['val_accuracy'], label = 'val_accuracy')\r\n",
        "plt.title('MODEL 3 - DEEP WITHOUT DILATION')\r\n",
        "plt.xlabel('Epoch')\r\n",
        "plt.ylabel('Accuracy')\r\n",
        "plt.ylim([0.5, 1])\r\n",
        "plt.legend(loc='lower right')\r\n",
        "train_acc3 = np.mean(history3.history['accuracy'])\r\n",
        "test_acc3 = np.mean(history3.history['val_accuracy'])\r\n",
        "print(\"AVERAGE TRAIN ACCURACY =\",train_acc3)\r\n",
        "print(\"AVERAGE TEST ACCURACY =\",test_acc3)"
      ],
      "execution_count": 21,
      "outputs": [
        {
          "output_type": "stream",
          "text": [
            "Train Accuracy 3 = [0.32815998792648315, 0.4938800036907196, 0.5816799998283386, 0.6269800066947937, 0.6636000275611877, 0.6937400102615356, 0.7190999984741211, 0.7386999726295471, 0.7597200274467468, 0.7740799784660339, 0.7892600297927856, 0.8029000163078308, 0.813539981842041, 0.8283799886703491, 0.8396199941635132, 0.8450999855995178, 0.8538600206375122, 0.8628399968147278, 0.8676400184631348, 0.8748000264167786]\n",
            "Test Accuracy 3 =  [0.4259999990463257, 0.550599992275238, 0.611299991607666, 0.6139000058174133, 0.6324999928474426, 0.6539000272750854, 0.6722000241279602, 0.6697999835014343, 0.6883999705314636, 0.6845999956130981, 0.6909999847412109, 0.6826000213623047, 0.6886000037193298, 0.6955000162124634, 0.6801000237464905, 0.6926000118255615, 0.689300000667572, 0.6894000172615051, 0.6942999958992004, 0.6862000226974487]\n",
            "AVERAGE TRAIN ACCURACY = 0.737879003584385\n",
            "AVERAGE TEST ACCURACY = 0.6546400040388107\n"
          ],
          "name": "stdout"
        },
        {
          "output_type": "display_data",
          "data": {
            "image/png": "[encoded data removed]",
            "text/plain": [
              "<Figure size 432x288 with 1 Axes>"
            ]
          },
          "metadata": {
            "tags": [],
            "needs_background": "light"
          }
        }
      ]
    },
    {
      "cell_type": "markdown",
      "metadata": {
        "id": "EJvt_xTU8dzT"
      },
      "source": [
        "## **MODEL 3.1 - CHANGING OPTIMISER IN THE  MODEL 3**\r\n",
        "\r\n",
        "---\r\n",
        "\r\n"
      ]
    },
    {
      "cell_type": "code",
      "metadata": {
        "id": "pxPFjm3XR_KN",
        "colab": {
          "base_uri": "https://localhost:8080/"
        },
        "outputId": "94660744-c036-4600-8bb0-ed43b0473dd4"
      },
      "source": [
        "model3.compile(optimizer='Nadam', loss='sparse_categorical_crossentropy', metrics=['accuracy'])\r\n",
        "\r\n",
        "history3_1 = model3.fit(train_images, train_labels, epochs=20, \r\n",
        "                    validation_data=(test_images, test_labels))"
      ],
      "execution_count": 22,
      "outputs": [
        {
          "output_type": "stream",
          "text": [
            "Epoch 1/20\n",
            "1563/1563 [==============================] - 13s 7ms/step - loss: 0.3149 - accuracy: 0.8929 - val_loss: 1.2399 - val_accuracy: 0.6916\n",
            "Epoch 2/20\n",
            "1563/1563 [==============================] - 11s 7ms/step - loss: 0.2818 - accuracy: 0.9030 - val_loss: 1.2175 - val_accuracy: 0.6911\n",
            "Epoch 3/20\n",
            "1563/1563 [==============================] - 11s 7ms/step - loss: 0.2676 - accuracy: 0.9085 - val_loss: 1.2119 - val_accuracy: 0.6882\n",
            "Epoch 4/20\n",
            "1563/1563 [==============================] - 11s 7ms/step - loss: 0.2568 - accuracy: 0.9122 - val_loss: 1.4105 - val_accuracy: 0.6823\n",
            "Epoch 5/20\n",
            "1563/1563 [==============================] - 11s 7ms/step - loss: 0.2504 - accuracy: 0.9137 - val_loss: 1.3122 - val_accuracy: 0.6914\n",
            "Epoch 6/20\n",
            "1563/1563 [==============================] - 11s 7ms/step - loss: 0.2413 - accuracy: 0.9168 - val_loss: 1.3373 - val_accuracy: 0.6920\n",
            "Epoch 7/20\n",
            "1563/1563 [==============================] - 11s 7ms/step - loss: 0.2237 - accuracy: 0.9238 - val_loss: 1.3961 - val_accuracy: 0.6945\n",
            "Epoch 8/20\n",
            "1563/1563 [==============================] - 11s 7ms/step - loss: 0.2243 - accuracy: 0.9238 - val_loss: 1.3520 - val_accuracy: 0.6957\n",
            "Epoch 9/20\n",
            "1563/1563 [==============================] - 11s 7ms/step - loss: 0.2201 - accuracy: 0.9246 - val_loss: 1.4145 - val_accuracy: 0.6940\n",
            "Epoch 10/20\n",
            "1563/1563 [==============================] - 11s 7ms/step - loss: 0.2098 - accuracy: 0.9300 - val_loss: 1.4384 - val_accuracy: 0.6890\n",
            "Epoch 11/20\n",
            "1563/1563 [==============================] - 11s 7ms/step - loss: 0.2117 - accuracy: 0.9283 - val_loss: 1.4799 - val_accuracy: 0.6781\n",
            "Epoch 12/20\n",
            "1563/1563 [==============================] - 11s 7ms/step - loss: 0.1970 - accuracy: 0.9323 - val_loss: 1.4596 - val_accuracy: 0.6962\n",
            "Epoch 13/20\n",
            "1563/1563 [==============================] - 11s 7ms/step - loss: 0.1904 - accuracy: 0.9353 - val_loss: 1.4669 - val_accuracy: 0.6955\n",
            "Epoch 14/20\n",
            "1563/1563 [==============================] - 11s 7ms/step - loss: 0.1919 - accuracy: 0.9367 - val_loss: 1.4593 - val_accuracy: 0.6925\n",
            "Epoch 15/20\n",
            "1563/1563 [==============================] - 12s 8ms/step - loss: 0.1767 - accuracy: 0.9396 - val_loss: 1.6238 - val_accuracy: 0.6915\n",
            "Epoch 16/20\n",
            "1563/1563 [==============================] - 11s 7ms/step - loss: 0.1773 - accuracy: 0.9396 - val_loss: 1.5595 - val_accuracy: 0.6873\n",
            "Epoch 17/20\n",
            "1563/1563 [==============================] - 11s 7ms/step - loss: 0.1709 - accuracy: 0.9427 - val_loss: 1.6316 - val_accuracy: 0.6909\n",
            "Epoch 18/20\n",
            "1563/1563 [==============================] - 11s 7ms/step - loss: 0.1673 - accuracy: 0.9450 - val_loss: 1.5791 - val_accuracy: 0.6924\n",
            "Epoch 19/20\n",
            "1563/1563 [==============================] - 11s 7ms/step - loss: 0.1750 - accuracy: 0.9414 - val_loss: 1.5532 - val_accuracy: 0.6870\n",
            "Epoch 20/20\n",
            "1563/1563 [==============================] - 11s 7ms/step - loss: 0.1578 - accuracy: 0.9465 - val_loss: 1.5685 - val_accuracy: 0.6919\n"
          ],
          "name": "stdout"
        }
      ]
    },
    {
      "cell_type": "code",
      "metadata": {
        "id": "x8eaW4Ix5RS3"
      },
      "source": [
        "print (\"Train Accuracy 3.1 =\" , history3_1.history['accuracy'])\r\n",
        "print(\"Test Accuracy 3 = \" , history3_1.history['val_accuracy'])\r\n",
        "plt.plot(history3_1.history['accuracy'], label='accuracy')\r\n",
        "plt.plot(history3_1.history['val_accuracy'], label = 'val_accuracy')\r\n",
        "plt.title('NETWORK MODEL 3.1 - WITHOUT DILATION WITH NADAM OPTIMISER')\r\n",
        "plt.xlabel('Epoch')\r\n",
        "plt.ylabel('Accuracy')\r\n",
        "plt.ylim([0.5, 1])\r\n",
        "plt.legend(loc='lower right')\r\n",
        "train_acc3_1 = np.mean(history3_1.history['accuracy'])\r\n",
        "test_acc3_1 = np.mean(history3_1.history['val_accuracy'])\r\n",
        "print(\"AVERAGE TRAIN ACCURACY =\",train_acc3_1)\r\n",
        "print(\"AVERAGE TEST ACCURACY =\",test_acc3_1)"
      ],
      "execution_count": null,
      "outputs": []
    },
    {
      "cell_type": "code",
      "metadata": {
        "id": "iuXv6P2W5RQc"
      },
      "source": [
        ""
      ],
      "execution_count": null,
      "outputs": []
    },
    {
      "cell_type": "markdown",
      "metadata": {
        "id": "FegHhZflo8Yp"
      },
      "source": [
        "## **MODEL 4 - DEEPER LAYERS with NADAM OPTIMISER and 50 epochs**"
      ]
    },
    {
      "cell_type": "code",
      "metadata": {
        "id": "zqdcPEJU5RNq"
      },
      "source": [
        "model4 = tf.keras.models.Sequential([\r\n",
        "                        tf.keras.layers.Conv2D(32, (3, 3),strides=(2,2), activation='relu', padding='same',input_shape=(32,32,3) , data_format = 'channels_first'),\r\n",
        "                        tf.keras.layers.Conv2D(32, (3, 3), activation='relu',padding='same'),\r\n",
        "                        tf.keras.layers.MaxPooling2D(2, 2),\r\n",
        "\r\n",
        "                        tf.keras.layers.Conv2D(64, (3, 3),  activation='relu',padding='same'),\r\n",
        "                        tf.keras.layers.Conv2D(64, (3, 3), activation='relu',padding='same'),\r\n",
        "                        tf.keras.layers.Conv2D(64, (3, 3),  activation='relu',padding='same'),\r\n",
        "                        tf.keras.layers.Conv2D(64, (3, 3), activation='relu',padding='same'),\r\n",
        "                        tf.keras.layers.Conv2D(64, (3, 3), activation='relu',padding='same'),\r\n",
        "                        tf.keras.layers.MaxPooling2D(2, 2),\r\n",
        "\r\n",
        "                        tf.keras.layers.Conv2D(64, (3, 3),  activation='relu',padding='same'),\r\n",
        "                        tf.keras.layers.Conv2D(64, (3, 3), activation='relu',padding='same'),\r\n",
        "                        tf.keras.layers.Conv2D(64, (3, 3), activation='relu',padding='same'),\r\n",
        "                        tf.keras.layers.Conv2D(64, (3, 3), activation='relu',padding='same'),\r\n",
        "                        tf.keras.layers.MaxPooling2D(2, 2),\r\n",
        "\r\n",
        "                        tf.keras.layers.Conv2D(64, (3, 3),  activation='relu',padding='same'),\r\n",
        "                        tf.keras.layers.Conv2D(64, (3, 3), activation='relu',padding='same'),\r\n",
        "                        tf.keras.layers.Conv2D(64, (3, 3), activation='relu',padding='same'),\r\n",
        "                        tf.keras.layers.MaxPooling2D(2, 2),\r\n",
        "\r\n",
        "                        tf.keras.layers.Conv2D(64, (3, 3),  activation='relu',padding='same'),\r\n",
        "                        tf.keras.layers.Conv2D(64, (3, 3), activation='relu',padding='same'),\r\n",
        "                        tf.keras.layers.Conv2D(64, (3, 3), activation='relu',padding='same'),\r\n",
        "                        tf.keras.layers.Flatten(),\r\n",
        "\r\n",
        "                        tf.keras.layers.Dense(128, activation='relu'),\r\n",
        "                        tf.keras.layers.Dense(10, activation='softmax')])"
      ],
      "execution_count": 24,
      "outputs": []
    },
    {
      "cell_type": "code",
      "metadata": {
        "id": "4yLjf5mZ5RKx",
        "colab": {
          "base_uri": "https://localhost:8080/"
        },
        "outputId": "2787191c-bc3d-4fe1-b5ec-b697de5d7781"
      },
      "source": [
        "model4.compile(optimizer='Nadam', loss='sparse_categorical_crossentropy', metrics=['accuracy'])\r\n",
        "\r\n",
        "history4 = model4.fit(train_images, train_labels, epochs=50, \r\n",
        "                    validation_data=(test_images, test_labels))"
      ],
      "execution_count": 25,
      "outputs": [
        {
          "output_type": "stream",
          "text": [
            "Epoch 1/50\n",
            "1563/1563 [==============================] - 19s 11ms/step - loss: 2.3163 - accuracy: 0.0995 - val_loss: 2.3026 - val_accuracy: 0.1000\n",
            "Epoch 2/50\n",
            "1563/1563 [==============================] - 16s 10ms/step - loss: 2.3027 - accuracy: 0.0982 - val_loss: 2.3026 - val_accuracy: 0.1000\n",
            "Epoch 3/50\n",
            "1563/1563 [==============================] - 16s 10ms/step - loss: 2.3027 - accuracy: 0.0978 - val_loss: 2.3026 - val_accuracy: 0.1000\n",
            "Epoch 4/50\n",
            "1563/1563 [==============================] - 16s 10ms/step - loss: 2.3027 - accuracy: 0.0983 - val_loss: 2.3026 - val_accuracy: 0.1000\n",
            "Epoch 5/50\n",
            "1563/1563 [==============================] - 16s 10ms/step - loss: 2.3027 - accuracy: 0.0972 - val_loss: 2.3026 - val_accuracy: 0.1000\n",
            "Epoch 6/50\n",
            "1563/1563 [==============================] - 16s 10ms/step - loss: 2.3028 - accuracy: 0.0975 - val_loss: 2.3026 - val_accuracy: 0.1000\n",
            "Epoch 7/50\n",
            "1563/1563 [==============================] - 16s 10ms/step - loss: 2.3027 - accuracy: 0.1005 - val_loss: 2.3026 - val_accuracy: 0.1000\n",
            "Epoch 8/50\n",
            "1563/1563 [==============================] - 16s 10ms/step - loss: 2.3027 - accuracy: 0.1010 - val_loss: 2.3026 - val_accuracy: 0.1000\n",
            "Epoch 9/50\n",
            "1563/1563 [==============================] - 17s 11ms/step - loss: 2.3027 - accuracy: 0.0987 - val_loss: 2.3026 - val_accuracy: 0.1000\n",
            "Epoch 10/50\n",
            "1563/1563 [==============================] - 16s 10ms/step - loss: 2.3028 - accuracy: 0.0966 - val_loss: 2.3026 - val_accuracy: 0.1000\n",
            "Epoch 11/50\n",
            "1563/1563 [==============================] - 16s 10ms/step - loss: 2.3027 - accuracy: 0.0988 - val_loss: 2.3027 - val_accuracy: 0.1000\n",
            "Epoch 12/50\n",
            "1563/1563 [==============================] - 16s 10ms/step - loss: 2.3028 - accuracy: 0.0968 - val_loss: 2.3027 - val_accuracy: 0.1000\n",
            "Epoch 13/50\n",
            "1563/1563 [==============================] - 16s 10ms/step - loss: 2.3027 - accuracy: 0.1001 - val_loss: 2.3027 - val_accuracy: 0.1000\n",
            "Epoch 14/50\n",
            "1563/1563 [==============================] - 16s 10ms/step - loss: 2.3027 - accuracy: 0.0977 - val_loss: 2.3026 - val_accuracy: 0.1000\n",
            "Epoch 15/50\n",
            "1563/1563 [==============================] - 17s 11ms/step - loss: 2.3027 - accuracy: 0.0996 - val_loss: 2.3026 - val_accuracy: 0.1000\n",
            "Epoch 16/50\n",
            "1563/1563 [==============================] - 16s 10ms/step - loss: 2.3027 - accuracy: 0.1019 - val_loss: 2.3026 - val_accuracy: 0.1000\n",
            "Epoch 17/50\n",
            "1563/1563 [==============================] - 16s 10ms/step - loss: 2.3028 - accuracy: 0.0986 - val_loss: 2.3026 - val_accuracy: 0.1000\n",
            "Epoch 18/50\n",
            "1563/1563 [==============================] - 16s 10ms/step - loss: 2.3028 - accuracy: 0.0999 - val_loss: 2.3027 - val_accuracy: 0.1000\n",
            "Epoch 19/50\n",
            "1563/1563 [==============================] - 16s 10ms/step - loss: 2.3029 - accuracy: 0.0984 - val_loss: 2.3026 - val_accuracy: 0.1000\n",
            "Epoch 20/50\n",
            "1563/1563 [==============================] - 16s 10ms/step - loss: 2.3027 - accuracy: 0.0986 - val_loss: 2.3026 - val_accuracy: 0.1000\n",
            "Epoch 21/50\n",
            "1563/1563 [==============================] - 16s 10ms/step - loss: 2.3027 - accuracy: 0.0998 - val_loss: 2.3026 - val_accuracy: 0.1000\n",
            "Epoch 22/50\n",
            "1563/1563 [==============================] - 16s 10ms/step - loss: 2.3028 - accuracy: 0.0942 - val_loss: 2.3026 - val_accuracy: 0.1000\n",
            "Epoch 23/50\n",
            "1563/1563 [==============================] - 16s 10ms/step - loss: 2.3027 - accuracy: 0.0966 - val_loss: 2.3026 - val_accuracy: 0.1000\n",
            "Epoch 24/50\n",
            "1563/1563 [==============================] - 16s 10ms/step - loss: 2.3028 - accuracy: 0.0948 - val_loss: 2.3027 - val_accuracy: 0.1000\n",
            "Epoch 25/50\n",
            "1563/1563 [==============================] - 16s 10ms/step - loss: 2.3028 - accuracy: 0.0977 - val_loss: 2.3026 - val_accuracy: 0.1000\n",
            "Epoch 26/50\n",
            "1563/1563 [==============================] - 17s 11ms/step - loss: 2.3027 - accuracy: 0.1024 - val_loss: 2.3026 - val_accuracy: 0.1000\n",
            "Epoch 27/50\n",
            "1563/1563 [==============================] - 17s 11ms/step - loss: 2.3028 - accuracy: 0.0974 - val_loss: 2.3026 - val_accuracy: 0.1000\n",
            "Epoch 28/50\n",
            "1563/1563 [==============================] - 17s 11ms/step - loss: 2.3027 - accuracy: 0.0989 - val_loss: 2.3026 - val_accuracy: 0.1000\n",
            "Epoch 29/50\n",
            "1563/1563 [==============================] - 16s 10ms/step - loss: 2.3027 - accuracy: 0.1011 - val_loss: 2.3026 - val_accuracy: 0.1000\n",
            "Epoch 30/50\n",
            "1563/1563 [==============================] - 16s 10ms/step - loss: 2.3027 - accuracy: 0.0998 - val_loss: 2.3026 - val_accuracy: 0.1000\n",
            "Epoch 31/50\n",
            "1563/1563 [==============================] - 16s 11ms/step - loss: 2.3027 - accuracy: 0.1004 - val_loss: 2.3026 - val_accuracy: 0.1000\n",
            "Epoch 32/50\n",
            "1563/1563 [==============================] - 16s 10ms/step - loss: 2.3028 - accuracy: 0.0965 - val_loss: 2.3026 - val_accuracy: 0.1000\n",
            "Epoch 33/50\n",
            "1563/1563 [==============================] - 16s 10ms/step - loss: 2.3028 - accuracy: 0.0989 - val_loss: 2.3026 - val_accuracy: 0.1000\n",
            "Epoch 34/50\n",
            "1563/1563 [==============================] - 16s 10ms/step - loss: 2.3028 - accuracy: 0.0960 - val_loss: 2.3026 - val_accuracy: 0.1000\n",
            "Epoch 35/50\n",
            "1563/1563 [==============================] - 17s 11ms/step - loss: 2.3027 - accuracy: 0.0998 - val_loss: 2.3026 - val_accuracy: 0.1000\n",
            "Epoch 36/50\n",
            "1563/1563 [==============================] - 16s 10ms/step - loss: 2.3027 - accuracy: 0.1006 - val_loss: 2.3026 - val_accuracy: 0.1000\n",
            "Epoch 37/50\n",
            "1563/1563 [==============================] - 16s 10ms/step - loss: 2.3027 - accuracy: 0.0996 - val_loss: 2.3026 - val_accuracy: 0.1000\n",
            "Epoch 38/50\n",
            "1563/1563 [==============================] - 16s 10ms/step - loss: 2.3027 - accuracy: 0.0979 - val_loss: 2.3026 - val_accuracy: 0.1000\n",
            "Epoch 39/50\n",
            "1563/1563 [==============================] - 16s 10ms/step - loss: 2.3027 - accuracy: 0.1000 - val_loss: 2.3026 - val_accuracy: 0.1000\n",
            "Epoch 40/50\n",
            "1563/1563 [==============================] - 16s 10ms/step - loss: 2.3027 - accuracy: 0.1009 - val_loss: 2.3026 - val_accuracy: 0.1000\n",
            "Epoch 41/50\n",
            "1563/1563 [==============================] - 16s 10ms/step - loss: 2.3028 - accuracy: 0.0982 - val_loss: 2.3026 - val_accuracy: 0.1000\n",
            "Epoch 42/50\n",
            "1563/1563 [==============================] - 16s 10ms/step - loss: 2.3027 - accuracy: 0.1000 - val_loss: 2.3026 - val_accuracy: 0.1000\n",
            "Epoch 43/50\n",
            "1563/1563 [==============================] - 16s 10ms/step - loss: 2.3028 - accuracy: 0.0963 - val_loss: 2.3026 - val_accuracy: 0.1000\n",
            "Epoch 44/50\n",
            "1563/1563 [==============================] - 16s 11ms/step - loss: 2.3027 - accuracy: 0.1014 - val_loss: 2.3026 - val_accuracy: 0.1000\n",
            "Epoch 45/50\n",
            "1563/1563 [==============================] - 16s 10ms/step - loss: 2.3027 - accuracy: 0.1008 - val_loss: 2.3026 - val_accuracy: 0.1000\n",
            "Epoch 46/50\n",
            "1563/1563 [==============================] - 16s 10ms/step - loss: 2.3027 - accuracy: 0.0978 - val_loss: 2.3026 - val_accuracy: 0.1000\n",
            "Epoch 47/50\n",
            "1563/1563 [==============================] - 16s 10ms/step - loss: 2.3028 - accuracy: 0.0981 - val_loss: 2.3027 - val_accuracy: 0.1000\n",
            "Epoch 48/50\n",
            "1563/1563 [==============================] - 16s 10ms/step - loss: 2.3028 - accuracy: 0.0979 - val_loss: 2.3026 - val_accuracy: 0.1000\n",
            "Epoch 49/50\n",
            "1563/1563 [==============================] - 16s 10ms/step - loss: 2.3027 - accuracy: 0.1008 - val_loss: 2.3026 - val_accuracy: 0.1000\n",
            "Epoch 50/50\n",
            "1563/1563 [==============================] - 16s 10ms/step - loss: 2.3027 - accuracy: 0.1034 - val_loss: 2.3027 - val_accuracy: 0.1000\n"
          ],
          "name": "stdout"
        }
      ]
    },
    {
      "cell_type": "code",
      "metadata": {
        "id": "2VvQnIob5RI2",
        "colab": {
          "base_uri": "https://localhost:8080/",
          "height": 385
        },
        "outputId": "3eed16e5-745f-46b1-875e-773d01213b8e"
      },
      "source": [
        "print (\"Train Accuracy 4 =\" , history4.history['accuracy'])\r\n",
        "print(\"Test Accuracy 4 = \" , history4.history['val_accuracy'])\r\n",
        "plt.plot(history4.history['accuracy'], label='accuracy')\r\n",
        "plt.plot(history4.history['val_accuracy'], label = 'val_accuracy')\r\n",
        "plt.title(' MODEL 4 - DEEPER NETWORK ')\r\n",
        "plt.xlabel('Epoch')\r\n",
        "plt.ylabel('Accuracy')\r\n",
        "plt.ylim([0.5, 1])\r\n",
        "plt.legend(loc='lower right')\r\n",
        "train_acc4 = np.mean(history4.history['accuracy'])\r\n",
        "test_acc4 = np.mean(history4.history['val_accuracy'])\r\n",
        "print(\"AVERAGE TRAIN ACCURACY =\",train_acc4)\r\n",
        "print(\"AVERAGE TEST ACCURACY =\",test_acc4)"
      ],
      "execution_count": 30,
      "outputs": [
        {
          "output_type": "stream",
          "text": [
            "Train Accuracy 4 = [0.09780000150203705, 0.09736000001430511, 0.09867999702692032, 0.09697999805212021, 0.09808000177145004, 0.09709999710321426, 0.09867999702692032, 0.09933999925851822, 0.09781999886035919, 0.09634000062942505, 0.09865999966859818, 0.09852000325918198, 0.0995199978351593, 0.0972599983215332, 0.09929999709129333, 0.0997999981045723, 0.098860003054142, 0.10016000270843506, 0.09818000346422195, 0.09809999912977219, 0.09777999669313431, 0.09538000077009201, 0.095660001039505, 0.09589999914169312, 0.09758000075817108, 0.10087999701499939, 0.09703999757766724, 0.09774000197649002, 0.09898000210523605, 0.09827999770641327, 0.09922000020742416, 0.09787999838590622, 0.09815999865531921, 0.09629999846220016, 0.09827999770641327, 0.09907999634742737, 0.09927999973297119, 0.0980599969625473, 0.09765999764204025, 0.09811999648809433, 0.09808000177145004, 0.09815999865531921, 0.09784000366926193, 0.09898000210523605, 0.09854000061750412, 0.09774000197649002, 0.09848000109195709, 0.09818000346422195, 0.09917999804019928, 0.09984000027179718]\n",
            "Test Accuracy 4 =  [0.10000000149011612, 0.10000000149011612, 0.10000000149011612, 0.10000000149011612, 0.10000000149011612, 0.10000000149011612, 0.10000000149011612, 0.10000000149011612, 0.10000000149011612, 0.10000000149011612, 0.10000000149011612, 0.10000000149011612, 0.10000000149011612, 0.10000000149011612, 0.10000000149011612, 0.10000000149011612, 0.10000000149011612, 0.10000000149011612, 0.10000000149011612, 0.10000000149011612, 0.10000000149011612, 0.10000000149011612, 0.10000000149011612, 0.10000000149011612, 0.10000000149011612, 0.10000000149011612, 0.10000000149011612, 0.10000000149011612, 0.10000000149011612, 0.10000000149011612, 0.10000000149011612, 0.10000000149011612, 0.10000000149011612, 0.10000000149011612, 0.10000000149011612, 0.10000000149011612, 0.10000000149011612, 0.10000000149011612, 0.10000000149011612, 0.10000000149011612, 0.10000000149011612, 0.10000000149011612, 0.10000000149011612, 0.10000000149011612, 0.10000000149011612, 0.10000000149011612, 0.10000000149011612, 0.10000000149011612, 0.10000000149011612, 0.10000000149011612]\n",
            "AVERAGE TRAIN ACCURACY = 0.09817639961838723\n",
            "AVERAGE TEST ACCURACY = 0.10000000149011612\n"
          ],
          "name": "stdout"
        },
        {
          "output_type": "display_data",
          "data": {
            "image/png": "[encoded data removed]",
            "text/plain": [
              "<Figure size 432x288 with 1 Axes>"
            ]
          },
          "metadata": {
            "tags": [],
            "needs_background": "light"
          }
        }
      ]
    },
    {
      "cell_type": "markdown",
      "metadata": {
        "id": "ixZerJ56_4Bz"
      },
      "source": [
        "## **MODEL 5 - INCREASING FEATURES TO BE LEARNT AT EACH DEEP LAYER**\r\n",
        "\r\n"
      ]
    },
    {
      "cell_type": "code",
      "metadata": {
        "id": "_Ro77Xhd5RFm"
      },
      "source": [
        "model5 = tf.keras.models.Sequential([\r\n",
        "                        tf.keras.layers.Conv2D(32, (3, 3),strides=(2,2), activation='relu', padding='same',input_shape=(32,32,3) , data_format = 'channels_first'),\r\n",
        "                        tf.keras.layers.Conv2D(32, (3, 3), activation='relu',padding='same'),\r\n",
        "                        tf.keras.layers.MaxPooling2D(2, 2),\r\n",
        "\r\n",
        "                        tf.keras.layers.Conv2D(64, (3, 3),  activation='relu',padding='same'),\r\n",
        "                        tf.keras.layers.Conv2D(64, (3, 3), activation='relu',padding='same'),\r\n",
        "                        tf.keras.layers.MaxPooling2D(2, 2),\r\n",
        "\r\n",
        "                        tf.keras.layers.Conv2D(128, (3, 3),  activation='relu',padding='same'),\r\n",
        "                        tf.keras.layers.Conv2D(128, (3, 3), activation='relu',padding='same'),\r\n",
        "                        tf.keras.layers.Conv2D(128, (3, 3), activation='relu',padding='same'),\r\n",
        "                        tf.keras.layers.MaxPooling2D(2, 2),\r\n",
        "\r\n",
        "                        tf.keras.layers.Conv2D(256, (3, 3),  activation='relu',padding='same'),\r\n",
        "                        tf.keras.layers.Conv2D(256, (3, 3), activation='relu',padding='same'),\r\n",
        "                        tf.keras.layers.Conv2D(256, (3, 3), activation='relu',padding='same'),\r\n",
        "                        tf.keras.layers.MaxPooling2D(2, 2),\r\n",
        "\r\n",
        "                        tf.keras.layers.Conv2D(512, (3, 3),  activation='relu',padding='same'),\r\n",
        "                        tf.keras.layers.Conv2D(512, (3, 3), activation='relu',padding='same'),\r\n",
        "                        tf.keras.layers.Conv2D(512, (3, 3), activation='relu',padding='same'),\r\n",
        "                        tf.keras.layers.Flatten(),\r\n",
        "\r\n",
        "                        tf.keras.layers.Dense(1024, activation='relu'),\r\n",
        "                        tf.keras.layers.Dense(10, activation='softmax')])"
      ],
      "execution_count": 31,
      "outputs": []
    },
    {
      "cell_type": "code",
      "metadata": {
        "id": "6rm3dx8W5RC6",
        "colab": {
          "base_uri": "https://localhost:8080/"
        },
        "outputId": "aac5a536-4ebb-4d65-e4b2-d3dca1707e71"
      },
      "source": [
        "model5.compile(optimizer='adam', loss='sparse_categorical_crossentropy', metrics=['accuracy'])\r\n",
        "\r\n",
        "history5 = model5.fit(train_images, train_labels, epochs=30, \r\n",
        "                    validation_data=(test_images, test_labels))"
      ],
      "execution_count": 32,
      "outputs": [
        {
          "output_type": "stream",
          "text": [
            "Epoch 1/30\n",
            "1563/1563 [==============================] - 22s 14ms/step - loss: 2.3030 - accuracy: 0.0948 - val_loss: 2.3026 - val_accuracy: 0.1000\n",
            "Epoch 2/30\n",
            "1563/1563 [==============================] - 21s 13ms/step - loss: 2.3027 - accuracy: 0.0977 - val_loss: 2.3026 - val_accuracy: 0.1000\n",
            "Epoch 3/30\n",
            "1563/1563 [==============================] - 21s 13ms/step - loss: 2.3027 - accuracy: 0.1019 - val_loss: 2.3026 - val_accuracy: 0.1000\n",
            "Epoch 4/30\n",
            "1563/1563 [==============================] - 21s 13ms/step - loss: 2.3027 - accuracy: 0.1000 - val_loss: 2.3026 - val_accuracy: 0.1000\n",
            "Epoch 5/30\n",
            "1563/1563 [==============================] - 21s 13ms/step - loss: 2.3027 - accuracy: 0.0997 - val_loss: 2.3026 - val_accuracy: 0.1000\n",
            "Epoch 6/30\n",
            "1563/1563 [==============================] - 21s 14ms/step - loss: 2.3028 - accuracy: 0.0954 - val_loss: 2.3026 - val_accuracy: 0.1000\n",
            "Epoch 7/30\n",
            "1563/1563 [==============================] - 21s 13ms/step - loss: 2.3027 - accuracy: 0.1008 - val_loss: 2.3027 - val_accuracy: 0.1000\n",
            "Epoch 8/30\n",
            "1563/1563 [==============================] - 21s 13ms/step - loss: 2.3027 - accuracy: 0.1006 - val_loss: 2.3026 - val_accuracy: 0.1000\n",
            "Epoch 9/30\n",
            "1563/1563 [==============================] - 21s 13ms/step - loss: 2.3028 - accuracy: 0.0998 - val_loss: 2.3026 - val_accuracy: 0.1000\n",
            "Epoch 10/30\n",
            "1563/1563 [==============================] - 21s 13ms/step - loss: 2.3027 - accuracy: 0.1002 - val_loss: 2.3027 - val_accuracy: 0.1000\n",
            "Epoch 11/30\n",
            "1563/1563 [==============================] - 21s 13ms/step - loss: 2.3028 - accuracy: 0.0972 - val_loss: 2.3026 - val_accuracy: 0.1000\n",
            "Epoch 12/30\n",
            "1563/1563 [==============================] - 21s 13ms/step - loss: 2.3027 - accuracy: 0.0995 - val_loss: 2.3026 - val_accuracy: 0.1000\n",
            "Epoch 13/30\n",
            "1563/1563 [==============================] - 21s 13ms/step - loss: 2.3027 - accuracy: 0.0998 - val_loss: 2.3027 - val_accuracy: 0.1000\n",
            "Epoch 14/30\n",
            "1563/1563 [==============================] - 21s 13ms/step - loss: 2.3026 - accuracy: 0.1034 - val_loss: 2.3026 - val_accuracy: 0.1000\n",
            "Epoch 15/30\n",
            "1563/1563 [==============================] - 21s 13ms/step - loss: 2.3027 - accuracy: 0.0991 - val_loss: 2.3027 - val_accuracy: 0.1000\n",
            "Epoch 16/30\n",
            "1563/1563 [==============================] - 21s 13ms/step - loss: 2.3027 - accuracy: 0.1001 - val_loss: 2.3026 - val_accuracy: 0.1000\n",
            "Epoch 17/30\n",
            "1563/1563 [==============================] - 21s 13ms/step - loss: 2.3027 - accuracy: 0.0983 - val_loss: 2.3026 - val_accuracy: 0.1000\n",
            "Epoch 18/30\n",
            "1563/1563 [==============================] - 21s 13ms/step - loss: 2.3027 - accuracy: 0.0989 - val_loss: 2.3026 - val_accuracy: 0.1000\n",
            "Epoch 19/30\n",
            "1563/1563 [==============================] - 21s 13ms/step - loss: 2.3028 - accuracy: 0.0966 - val_loss: 2.3026 - val_accuracy: 0.1000\n",
            "Epoch 20/30\n",
            "1563/1563 [==============================] - 21s 13ms/step - loss: 2.3027 - accuracy: 0.0984 - val_loss: 2.3026 - val_accuracy: 0.1000\n",
            "Epoch 21/30\n",
            "1563/1563 [==============================] - 21s 13ms/step - loss: 2.3027 - accuracy: 0.1013 - val_loss: 2.3027 - val_accuracy: 0.1000\n",
            "Epoch 22/30\n",
            "1563/1563 [==============================] - 21s 13ms/step - loss: 2.3027 - accuracy: 0.0970 - val_loss: 2.3026 - val_accuracy: 0.1000\n",
            "Epoch 23/30\n",
            "1563/1563 [==============================] - 21s 13ms/step - loss: 2.3027 - accuracy: 0.1006 - val_loss: 2.3026 - val_accuracy: 0.1000\n",
            "Epoch 24/30\n",
            "1563/1563 [==============================] - 21s 13ms/step - loss: 2.3028 - accuracy: 0.0961 - val_loss: 2.3026 - val_accuracy: 0.1000\n",
            "Epoch 25/30\n",
            "1563/1563 [==============================] - 21s 13ms/step - loss: 2.3027 - accuracy: 0.1001 - val_loss: 2.3027 - val_accuracy: 0.1000\n",
            "Epoch 26/30\n",
            "1563/1563 [==============================] - 21s 13ms/step - loss: 2.3028 - accuracy: 0.0956 - val_loss: 2.3026 - val_accuracy: 0.1000\n",
            "Epoch 27/30\n",
            "1563/1563 [==============================] - 21s 13ms/step - loss: 2.3028 - accuracy: 0.0951 - val_loss: 2.3026 - val_accuracy: 0.1000\n",
            "Epoch 28/30\n",
            "1563/1563 [==============================] - 21s 13ms/step - loss: 2.3027 - accuracy: 0.0984 - val_loss: 2.3027 - val_accuracy: 0.1000\n",
            "Epoch 29/30\n",
            "1563/1563 [==============================] - 21s 13ms/step - loss: 2.3027 - accuracy: 0.1034 - val_loss: 2.3026 - val_accuracy: 0.1000\n",
            "Epoch 30/30\n",
            "1563/1563 [==============================] - 21s 13ms/step - loss: 2.3028 - accuracy: 0.0997 - val_loss: 2.3026 - val_accuracy: 0.1000\n"
          ],
          "name": "stdout"
        }
      ]
    },
    {
      "cell_type": "code",
      "metadata": {
        "id": "S-_iL8j05RAh",
        "colab": {
          "base_uri": "https://localhost:8080/",
          "height": 385
        },
        "outputId": "11e557c3-ee66-4c2f-c44e-677bcf792c05"
      },
      "source": [
        "print (\"Train Accuracy 5 =\" , history5.history['accuracy'])\r\n",
        "print(\"Test Accuracy 5 = \" , history5.history['val_accuracy'])\r\n",
        "plt.plot(history5.history['accuracy'], label='accuracy')\r\n",
        "plt.plot(history5.history['val_accuracy'], label = 'val_accuracy')\r\n",
        "plt.title('NETWORK MODEL 5 - CHANGING CONVOLUTION FILTER SIZE')\r\n",
        "plt.xlabel('Epoch')\r\n",
        "plt.ylabel('Accuracy')\r\n",
        "plt.ylim([0.5, 1])\r\n",
        "plt.legend(loc='lower right')\r\n",
        "train_acc5 = np.mean(history5.history['accuracy'])\r\n",
        "test_acc5 = np.mean(history5.history['val_accuracy'])\r\n",
        "print(\"AVERAGE TRAIN ACCURACY =\",train_acc5)\r\n",
        "print(\"AVERAGE TEST ACCURACY =\",test_acc5)"
      ],
      "execution_count": 33,
      "outputs": [
        {
          "output_type": "stream",
          "text": [
            "Train Accuracy 5 = [0.0966000035405159, 0.09713999927043915, 0.09950000047683716, 0.09623999893665314, 0.09895999729633331, 0.09650000184774399, 0.09780000150203705, 0.09849999845027924, 0.09826000034809113, 0.098860003054142, 0.09780000150203705, 0.09808000177145004, 0.0993800014257431, 0.09956000000238419, 0.09826000034809113, 0.0972599983215332, 0.09787999838590622, 0.09771999716758728, 0.09809999912977219, 0.09781999886035919, 0.10013999789953232, 0.09876000136137009, 0.09793999791145325, 0.09685999900102615, 0.09963999688625336, 0.09647999703884125, 0.09697999805212021, 0.09657999873161316, 0.10056000202894211, 0.09861999750137329]\n",
            "Test Accuracy 5 =  [0.10000000149011612, 0.10000000149011612, 0.10000000149011612, 0.10000000149011612, 0.10000000149011612, 0.10000000149011612, 0.10000000149011612, 0.10000000149011612, 0.10000000149011612, 0.10000000149011612, 0.10000000149011612, 0.10000000149011612, 0.10000000149011612, 0.10000000149011612, 0.10000000149011612, 0.10000000149011612, 0.10000000149011612, 0.10000000149011612, 0.10000000149011612, 0.10000000149011612, 0.10000000149011612, 0.10000000149011612, 0.10000000149011612, 0.10000000149011612, 0.10000000149011612, 0.10000000149011612, 0.10000000149011612, 0.10000000149011612, 0.10000000149011612, 0.10000000149011612]\n",
            "AVERAGE TRAIN ACCURACY = 0.0980926662683487\n",
            "AVERAGE TEST ACCURACY = 0.10000000149011612\n"
          ],
          "name": "stdout"
        },
        {
          "output_type": "display_data",
          "data": {
            "image/png": "[encoded data removed]",
            "text/plain": [
              "<Figure size 432x288 with 1 Axes>"
            ]
          },
          "metadata": {
            "tags": [],
            "needs_background": "light"
          }
        }
      ]
    },
    {
      "cell_type": "markdown",
      "metadata": {
        "id": "VQzLlTf9psRZ"
      },
      "source": [
        "## **MODEL 6 - Convolution Features from 16 to 128**"
      ]
    },
    {
      "cell_type": "code",
      "metadata": {
        "id": "JefrIArj5Q9m"
      },
      "source": [
        "model6 = tf.keras.models.Sequential([\r\n",
        "                        tf.keras.layers.Conv2D(16, (3, 3),strides=(2,2), activation='relu', padding='same',input_shape=(32,32,3) , data_format = 'channels_first'),\r\n",
        "                        tf.keras.layers.Conv2D(16, (3, 3), activation='relu',padding='same'),\r\n",
        "                        tf.keras.layers.MaxPooling2D(2, 2),\r\n",
        "\r\n",
        "                        tf.keras.layers.Conv2D(32, (3, 3),  activation='relu',padding='same'),\r\n",
        "                        tf.keras.layers.Conv2D(32, (3, 3), activation='relu',padding='same'),\r\n",
        "                        tf.keras.layers.MaxPooling2D(2, 2),\r\n",
        "\r\n",
        "                        tf.keras.layers.Conv2D(64, (3, 3),  activation='relu',padding='same'),\r\n",
        "                        tf.keras.layers.Conv2D(64, (3, 3), activation='relu',padding='same'),\r\n",
        "                        tf.keras.layers.Conv2D(64, (3, 3), activation='relu',padding='same'),\r\n",
        "                        tf.keras.layers.MaxPooling2D(2, 2),\r\n",
        "\r\n",
        "                        tf.keras.layers.Conv2D(64, (3, 3),  activation='relu',padding='same'),\r\n",
        "                        tf.keras.layers.Conv2D(64, (3, 3), activation='relu',padding='same'),\r\n",
        "                        tf.keras.layers.Conv2D(64, (3, 3), activation='relu',padding='same'),\r\n",
        "                        tf.keras.layers.MaxPooling2D(2, 2),\r\n",
        "\r\n",
        "                        tf.keras.layers.Conv2D(128, (3, 3),  activation='relu',padding='same'),\r\n",
        "                        tf.keras.layers.Conv2D(128, (3, 3), activation='relu',padding='same'),\r\n",
        "                        tf.keras.layers.Conv2D(128, (3, 3), activation='relu',padding='same'),\r\n",
        "                        tf.keras.layers.Flatten(),\r\n",
        "\r\n",
        "                        tf.keras.layers.Dense(512, activation='relu'),\r\n",
        "                        tf.keras.layers.Dense(10, activation='softmax')])"
      ],
      "execution_count": 35,
      "outputs": []
    },
    {
      "cell_type": "code",
      "metadata": {
        "id": "qSv0y6xC5Q68",
        "colab": {
          "base_uri": "https://localhost:8080/"
        },
        "outputId": "15c6e1b8-5271-42fe-dffe-6edbe7dd0da1"
      },
      "source": [
        "model6.compile(optimizer='adam', loss='sparse_categorical_crossentropy', metrics=['accuracy'])\r\n",
        "\r\n",
        "history6 = model6.fit(train_images, train_labels, epochs=20, \r\n",
        "                    validation_data=(test_images, test_labels))"
      ],
      "execution_count": 36,
      "outputs": [
        {
          "output_type": "stream",
          "text": [
            "Epoch 1/20\n",
            "1563/1563 [==============================] - 9s 5ms/step - loss: 2.3029 - accuracy: 0.0971 - val_loss: 2.3027 - val_accuracy: 0.1000\n",
            "Epoch 2/20\n",
            "1563/1563 [==============================] - 8s 5ms/step - loss: 2.3027 - accuracy: 0.0992 - val_loss: 2.3026 - val_accuracy: 0.1000\n",
            "Epoch 3/20\n",
            "1563/1563 [==============================] - 8s 5ms/step - loss: 2.3027 - accuracy: 0.0970 - val_loss: 2.3027 - val_accuracy: 0.1000\n",
            "Epoch 4/20\n",
            "1563/1563 [==============================] - 8s 5ms/step - loss: 2.3028 - accuracy: 0.0976 - val_loss: 2.3026 - val_accuracy: 0.1000\n",
            "Epoch 5/20\n",
            "1563/1563 [==============================] - 8s 5ms/step - loss: 2.3027 - accuracy: 0.1003 - val_loss: 2.3026 - val_accuracy: 0.1000\n",
            "Epoch 6/20\n",
            "1563/1563 [==============================] - 8s 5ms/step - loss: 2.3027 - accuracy: 0.0982 - val_loss: 2.3026 - val_accuracy: 0.1000\n",
            "Epoch 7/20\n",
            "1563/1563 [==============================] - 8s 5ms/step - loss: 2.3027 - accuracy: 0.0990 - val_loss: 2.3026 - val_accuracy: 0.1000\n",
            "Epoch 8/20\n",
            "1563/1563 [==============================] - 8s 5ms/step - loss: 2.3027 - accuracy: 0.0994 - val_loss: 2.3026 - val_accuracy: 0.1000\n",
            "Epoch 9/20\n",
            "1563/1563 [==============================] - 8s 5ms/step - loss: 2.3027 - accuracy: 0.0985 - val_loss: 2.3027 - val_accuracy: 0.1000\n",
            "Epoch 10/20\n",
            "1563/1563 [==============================] - 8s 5ms/step - loss: 2.3028 - accuracy: 0.0991 - val_loss: 2.3026 - val_accuracy: 0.1000\n",
            "Epoch 11/20\n",
            "1563/1563 [==============================] - 8s 5ms/step - loss: 2.3028 - accuracy: 0.0976 - val_loss: 2.3026 - val_accuracy: 0.1000\n",
            "Epoch 12/20\n",
            "1563/1563 [==============================] - 8s 5ms/step - loss: 2.3027 - accuracy: 0.0989 - val_loss: 2.3026 - val_accuracy: 0.1000\n",
            "Epoch 13/20\n",
            "1563/1563 [==============================] - 8s 5ms/step - loss: 2.3027 - accuracy: 0.1005 - val_loss: 2.3026 - val_accuracy: 0.1000\n",
            "Epoch 14/20\n",
            "1563/1563 [==============================] - 8s 5ms/step - loss: 2.3028 - accuracy: 0.0966 - val_loss: 2.3026 - val_accuracy: 0.1000\n",
            "Epoch 15/20\n",
            "1563/1563 [==============================] - 8s 5ms/step - loss: 2.3027 - accuracy: 0.0985 - val_loss: 2.3026 - val_accuracy: 0.1000\n",
            "Epoch 16/20\n",
            "1563/1563 [==============================] - 8s 5ms/step - loss: 2.3027 - accuracy: 0.0988 - val_loss: 2.3027 - val_accuracy: 0.1000\n",
            "Epoch 17/20\n",
            "1563/1563 [==============================] - 8s 5ms/step - loss: 2.3028 - accuracy: 0.1006 - val_loss: 2.3027 - val_accuracy: 0.1000\n",
            "Epoch 18/20\n",
            "1563/1563 [==============================] - 8s 5ms/step - loss: 2.3028 - accuracy: 0.0992 - val_loss: 2.3026 - val_accuracy: 0.1000\n",
            "Epoch 19/20\n",
            "1563/1563 [==============================] - 8s 5ms/step - loss: 2.3027 - accuracy: 0.1015 - val_loss: 2.3026 - val_accuracy: 0.1000\n",
            "Epoch 20/20\n",
            "1563/1563 [==============================] - 8s 5ms/step - loss: 2.3027 - accuracy: 0.0985 - val_loss: 2.3026 - val_accuracy: 0.1000\n"
          ],
          "name": "stdout"
        }
      ]
    },
    {
      "cell_type": "code",
      "metadata": {
        "id": "ZRs76Ufw5Q38",
        "colab": {
          "base_uri": "https://localhost:8080/",
          "height": 385
        },
        "outputId": "f82a54a9-68d6-495a-882b-1bf8c76b55d1"
      },
      "source": [
        "print (\"Train Accuracy 6 =\" , history6.history['accuracy'])\r\n",
        "print(\"Test Accuracy 6 = \" , history6.history['val_accuracy'])\r\n",
        "plt.plot(history6.history['accuracy'], label='accuracy')\r\n",
        "plt.plot(history6.history['val_accuracy'], label = 'val_accuracy')\r\n",
        "plt.title('NETWORK MODEL 6 -Filter Size from 16 to 128')\r\n",
        "plt.xlabel('Epoch')\r\n",
        "plt.ylabel('Accuracy')\r\n",
        "plt.ylim([0.5, 1])\r\n",
        "plt.legend(loc='lower right')\r\n",
        "train_acc6 = np.mean(history6.history['accuracy'])\r\n",
        "test_acc6 = np.mean(history6.history['val_accuracy'])\r\n",
        "print(\"AVERAGE TRAIN ACCURACY =\",train_acc6)\r\n",
        "print(\"AVERAGE TEST ACCURACY =\",test_acc6)"
      ],
      "execution_count": 37,
      "outputs": [
        {
          "output_type": "stream",
          "text": [
            "Train Accuracy 6 = [0.09865999966859818, 0.09741999953985214, 0.0975399985909462, 0.09651999920606613, 0.09939999878406525, 0.09793999791145325, 0.09769999980926514, 0.09824000298976898, 0.09950000047683716, 0.09839999675750732, 0.09796000272035599, 0.09610000252723694, 0.09830000251531601, 0.09653999656438828, 0.09762000292539597, 0.09814000129699707, 0.09867999702692032, 0.09799999743700027, 0.09849999845027924, 0.0966000035405159]\n",
            "Test Accuracy 6 =  [0.10000000149011612, 0.10000000149011612, 0.10000000149011612, 0.10000000149011612, 0.10000000149011612, 0.10000000149011612, 0.10000000149011612, 0.10000000149011612, 0.10000000149011612, 0.10000000149011612, 0.10000000149011612, 0.10000000149011612, 0.10000000149011612, 0.10000000149011612, 0.10000000149011612, 0.10000000149011612, 0.10000000149011612, 0.10000000149011612, 0.10000000149011612, 0.10000000149011612]\n",
            "AVERAGE TRAIN ACCURACY = 0.09788799993693828\n",
            "AVERAGE TEST ACCURACY = 0.10000000149011612\n"
          ],
          "name": "stdout"
        },
        {
          "output_type": "display_data",
          "data": {
            "image/png": "[encoded data removed]",
            "text/plain": [
              "<Figure size 432x288 with 1 Axes>"
            ]
          },
          "metadata": {
            "tags": [],
            "needs_background": "light"
          }
        }
      ]
    },
    {
      "cell_type": "markdown",
      "metadata": {
        "id": "SxKHD3FAqaFr"
      },
      "source": [
        "## **MODEL 7 - Using HeUniform Initialiser with SGD Optimiser and Dropouts**"
      ]
    },
    {
      "cell_type": "code",
      "metadata": {
        "id": "mRAXp7HN5Q1Q"
      },
      "source": [
        "initializer = tf.keras.initializers.HeUniform()\r\n",
        "model7 = tf.keras.models.Sequential([\r\n",
        "                        tf.keras.layers.Conv2D(32, (3, 3),strides=(2,2), activation='sigmoid', padding='same',input_shape=(32,32,3) , data_format = 'channels_first'),\r\n",
        "                        tf.keras.layers.Conv2D(32, (3, 3), activation='sigmoid',padding='same' ,kernel_initializer=initializer),\r\n",
        "                        tf.keras.layers.MaxPooling2D(2, 2),\r\n",
        "                        tf.keras.layers.Dropout(0.1),\r\n",
        "\r\n",
        "                        tf.keras.layers.Conv2D(64, (3, 3),  activation='sigmoid',padding='same',kernel_initializer=initializer),\r\n",
        "                        tf.keras.layers.Conv2D(64, (3, 3), activation='sigmoid',padding='same',kernel_initializer=initializer),\r\n",
        "                        tf.keras.layers.Conv2D(64, (3, 3),  activation='sigmoid',padding='same',kernel_initializer=initializer),\r\n",
        "                        tf.keras.layers.Conv2D(64, (3, 3), activation='sigmoid',padding='same',kernel_initializer=initializer),\r\n",
        "                        tf.keras.layers.Conv2D(64, (3, 3), activation='sigmoid',padding='same',kernel_initializer=initializer),\r\n",
        "                        tf.keras.layers.Dropout(0.1),\r\n",
        "\r\n",
        "                        tf.keras.layers.Conv2D(64, (3, 3),  activation='sigmoid',padding='same',kernel_initializer=initializer),\r\n",
        "                        tf.keras.layers.Conv2D(64, (3, 3), activation='sigmoid',padding='same',kernel_initializer=initializer),\r\n",
        "                        tf.keras.layers.Conv2D(64, (3, 3), activation='sigmoid',padding='same',kernel_initializer=initializer),\r\n",
        "                        tf.keras.layers.Conv2D(64, (3, 3), activation='sigmoid',padding='same',kernel_initializer=initializer),\r\n",
        "                        tf.keras.layers.MaxPooling2D(2, 2),\r\n",
        "                        tf.keras.layers.Dropout(0.1),\r\n",
        "\r\n",
        "                        tf.keras.layers.Conv2D(64, (3, 3),  activation='sigmoid',padding='same',kernel_initializer=initializer),\r\n",
        "                        tf.keras.layers.Conv2D(64, (3, 3), activation='sigmoid',padding='same',kernel_initializer=initializer),\r\n",
        "                        tf.keras.layers.Conv2D(64, (3, 3), activation='sigmoid',padding='same',kernel_initializer=initializer),\r\n",
        "                        tf.keras.layers.MaxPooling2D(2, 2),\r\n",
        "                        tf.keras.layers.Dropout(0.1),\r\n",
        "\r\n",
        "                        tf.keras.layers.Conv2D(64, (3, 3),  activation='sigmoid',padding='same',kernel_initializer=initializer),\r\n",
        "                        tf.keras.layers.Conv2D(64, (3, 3), activation='sigmoid',padding='same',kernel_initializer=initializer),\r\n",
        "                        tf.keras.layers.Conv2D(64, (3, 3), activation='sigmoid',padding='same',kernel_initializer=initializer),\r\n",
        "                        tf.keras.layers.Flatten(),\r\n",
        "\r\n",
        "                        tf.keras.layers.Dense(128, activation='sigmoid'),\r\n",
        "                        tf.keras.layers.Dropout(0.1),\r\n",
        "                        tf.keras.layers.Dense(10, activation='softmax')])"
      ],
      "execution_count": 38,
      "outputs": []
    },
    {
      "cell_type": "code",
      "metadata": {
        "id": "Qc1JfCq35QyV",
        "colab": {
          "base_uri": "https://localhost:8080/"
        },
        "outputId": "97ff96f1-9743-4c22-a1c1-5969b1df4fe9"
      },
      "source": [
        "opt = tf.keras.optimizers.SGD(learning_rate=0.001 ,momentum=0.9)\r\n",
        "model7.compile(optimizer=opt, loss='sparse_categorical_crossentropy', metrics='accuracy')\r\n",
        "\r\n",
        "history7 = model7.fit(train_images, train_labels, epochs=50, batch_size =2000,\r\n",
        "                    validation_data=(test_images, test_labels))"
      ],
      "execution_count": 40,
      "outputs": [
        {
          "output_type": "stream",
          "text": [
            "Epoch 1/50\n",
            "25/25 [==============================] - 6s 220ms/step - loss: 2.3195 - accuracy: 0.1029 - val_loss: 2.3026 - val_accuracy: 0.1000\n",
            "Epoch 2/50\n",
            "25/25 [==============================] - 5s 208ms/step - loss: 2.3210 - accuracy: 0.0996 - val_loss: 2.3026 - val_accuracy: 0.1000\n",
            "Epoch 3/50\n",
            "25/25 [==============================] - 5s 212ms/step - loss: 2.3207 - accuracy: 0.0982 - val_loss: 2.3026 - val_accuracy: 0.1000\n",
            "Epoch 4/50\n",
            "25/25 [==============================] - 5s 215ms/step - loss: 2.3183 - accuracy: 0.1032 - val_loss: 2.3026 - val_accuracy: 0.1000\n",
            "Epoch 5/50\n",
            "25/25 [==============================] - 5s 216ms/step - loss: 2.3187 - accuracy: 0.1005 - val_loss: 2.3026 - val_accuracy: 0.1000\n",
            "Epoch 6/50\n",
            "25/25 [==============================] - 5s 212ms/step - loss: 2.3195 - accuracy: 0.0986 - val_loss: 2.3026 - val_accuracy: 0.1000\n",
            "Epoch 7/50\n",
            "25/25 [==============================] - 5s 209ms/step - loss: 2.3190 - accuracy: 0.1008 - val_loss: 2.3026 - val_accuracy: 0.1000\n",
            "Epoch 8/50\n",
            "25/25 [==============================] - 5s 207ms/step - loss: 2.3210 - accuracy: 0.0992 - val_loss: 2.3026 - val_accuracy: 0.1000\n",
            "Epoch 9/50\n",
            "25/25 [==============================] - 5s 205ms/step - loss: 2.3201 - accuracy: 0.1009 - val_loss: 2.3026 - val_accuracy: 0.1000\n",
            "Epoch 10/50\n",
            "25/25 [==============================] - 5s 204ms/step - loss: 2.3206 - accuracy: 0.0977 - val_loss: 2.3026 - val_accuracy: 0.1000\n",
            "Epoch 11/50\n",
            "25/25 [==============================] - 5s 204ms/step - loss: 2.3200 - accuracy: 0.1033 - val_loss: 2.3026 - val_accuracy: 0.1000\n",
            "Epoch 12/50\n",
            "25/25 [==============================] - 5s 203ms/step - loss: 2.3181 - accuracy: 0.0980 - val_loss: 2.3026 - val_accuracy: 0.1000\n",
            "Epoch 13/50\n",
            "25/25 [==============================] - 5s 202ms/step - loss: 2.3195 - accuracy: 0.0974 - val_loss: 2.3026 - val_accuracy: 0.1000\n",
            "Epoch 14/50\n",
            "25/25 [==============================] - 5s 203ms/step - loss: 2.3190 - accuracy: 0.0981 - val_loss: 2.3026 - val_accuracy: 0.1000\n",
            "Epoch 15/50\n",
            "25/25 [==============================] - 5s 204ms/step - loss: 2.3179 - accuracy: 0.1001 - val_loss: 2.3026 - val_accuracy: 0.1000\n",
            "Epoch 16/50\n",
            "25/25 [==============================] - 5s 204ms/step - loss: 2.3186 - accuracy: 0.1009 - val_loss: 2.3026 - val_accuracy: 0.1000\n",
            "Epoch 17/50\n",
            "25/25 [==============================] - 5s 206ms/step - loss: 2.3184 - accuracy: 0.1016 - val_loss: 2.3026 - val_accuracy: 0.1000\n",
            "Epoch 18/50\n",
            "25/25 [==============================] - 5s 206ms/step - loss: 2.3181 - accuracy: 0.1005 - val_loss: 2.3026 - val_accuracy: 0.1000\n",
            "Epoch 19/50\n",
            "25/25 [==============================] - 5s 207ms/step - loss: 2.3193 - accuracy: 0.0956 - val_loss: 2.3026 - val_accuracy: 0.1000\n",
            "Epoch 20/50\n",
            "25/25 [==============================] - 5s 209ms/step - loss: 2.3181 - accuracy: 0.1016 - val_loss: 2.3026 - val_accuracy: 0.1000\n",
            "Epoch 21/50\n",
            "25/25 [==============================] - 5s 208ms/step - loss: 2.3176 - accuracy: 0.0991 - val_loss: 2.3026 - val_accuracy: 0.1000\n",
            "Epoch 22/50\n",
            "25/25 [==============================] - 5s 208ms/step - loss: 2.3166 - accuracy: 0.1040 - val_loss: 2.3026 - val_accuracy: 0.1000\n",
            "Epoch 23/50\n",
            "25/25 [==============================] - 5s 208ms/step - loss: 2.3175 - accuracy: 0.1022 - val_loss: 2.3026 - val_accuracy: 0.1000\n",
            "Epoch 24/50\n",
            "25/25 [==============================] - 5s 207ms/step - loss: 2.3163 - accuracy: 0.1009 - val_loss: 2.3026 - val_accuracy: 0.1000\n",
            "Epoch 25/50\n",
            "25/25 [==============================] - 5s 206ms/step - loss: 2.3157 - accuracy: 0.1005 - val_loss: 2.3026 - val_accuracy: 0.1000\n",
            "Epoch 26/50\n",
            "25/25 [==============================] - 5s 207ms/step - loss: 2.3177 - accuracy: 0.0971 - val_loss: 2.3026 - val_accuracy: 0.1000\n",
            "Epoch 27/50\n",
            "25/25 [==============================] - 5s 206ms/step - loss: 2.3177 - accuracy: 0.1005 - val_loss: 2.3026 - val_accuracy: 0.1000\n",
            "Epoch 28/50\n",
            "25/25 [==============================] - 5s 205ms/step - loss: 2.3173 - accuracy: 0.0999 - val_loss: 2.3026 - val_accuracy: 0.1000\n",
            "Epoch 29/50\n",
            "25/25 [==============================] - 5s 204ms/step - loss: 2.3173 - accuracy: 0.1022 - val_loss: 2.3026 - val_accuracy: 0.1000\n",
            "Epoch 30/50\n",
            "25/25 [==============================] - 5s 205ms/step - loss: 2.3152 - accuracy: 0.0994 - val_loss: 2.3026 - val_accuracy: 0.1000\n",
            "Epoch 31/50\n",
            "25/25 [==============================] - 5s 205ms/step - loss: 2.3151 - accuracy: 0.0998 - val_loss: 2.3026 - val_accuracy: 0.1000\n",
            "Epoch 32/50\n",
            "25/25 [==============================] - 5s 205ms/step - loss: 2.3156 - accuracy: 0.1006 - val_loss: 2.3026 - val_accuracy: 0.1000\n",
            "Epoch 33/50\n",
            "25/25 [==============================] - 5s 206ms/step - loss: 2.3165 - accuracy: 0.1007 - val_loss: 2.3026 - val_accuracy: 0.1000\n",
            "Epoch 34/50\n",
            "25/25 [==============================] - 5s 205ms/step - loss: 2.3156 - accuracy: 0.1011 - val_loss: 2.3026 - val_accuracy: 0.1000\n",
            "Epoch 35/50\n",
            "25/25 [==============================] - 5s 206ms/step - loss: 2.3177 - accuracy: 0.0993 - val_loss: 2.3026 - val_accuracy: 0.1000\n",
            "Epoch 36/50\n",
            "25/25 [==============================] - 5s 206ms/step - loss: 2.3166 - accuracy: 0.0985 - val_loss: 2.3026 - val_accuracy: 0.1000\n",
            "Epoch 37/50\n",
            "25/25 [==============================] - 5s 205ms/step - loss: 2.3177 - accuracy: 0.0998 - val_loss: 2.3026 - val_accuracy: 0.1000\n",
            "Epoch 38/50\n",
            "25/25 [==============================] - 5s 205ms/step - loss: 2.3151 - accuracy: 0.0995 - val_loss: 2.3026 - val_accuracy: 0.1000\n",
            "Epoch 39/50\n",
            "25/25 [==============================] - 5s 207ms/step - loss: 2.3150 - accuracy: 0.1018 - val_loss: 2.3026 - val_accuracy: 0.1000\n",
            "Epoch 40/50\n",
            "25/25 [==============================] - 5s 206ms/step - loss: 2.3167 - accuracy: 0.1008 - val_loss: 2.3026 - val_accuracy: 0.1000\n",
            "Epoch 41/50\n",
            "25/25 [==============================] - 5s 206ms/step - loss: 2.3151 - accuracy: 0.1025 - val_loss: 2.3026 - val_accuracy: 0.1000\n",
            "Epoch 42/50\n",
            "25/25 [==============================] - 5s 205ms/step - loss: 2.3144 - accuracy: 0.1036 - val_loss: 2.3026 - val_accuracy: 0.1000\n",
            "Epoch 43/50\n",
            "25/25 [==============================] - 5s 206ms/step - loss: 2.3157 - accuracy: 0.0989 - val_loss: 2.3026 - val_accuracy: 0.1000\n",
            "Epoch 44/50\n",
            "25/25 [==============================] - 5s 205ms/step - loss: 2.3155 - accuracy: 0.1015 - val_loss: 2.3026 - val_accuracy: 0.1000\n",
            "Epoch 45/50\n",
            "25/25 [==============================] - 5s 205ms/step - loss: 2.3160 - accuracy: 0.0986 - val_loss: 2.3026 - val_accuracy: 0.1000\n",
            "Epoch 46/50\n",
            "25/25 [==============================] - 5s 206ms/step - loss: 2.3163 - accuracy: 0.0981 - val_loss: 2.3026 - val_accuracy: 0.1000\n",
            "Epoch 47/50\n",
            "25/25 [==============================] - 5s 206ms/step - loss: 2.3145 - accuracy: 0.1002 - val_loss: 2.3026 - val_accuracy: 0.1000\n",
            "Epoch 48/50\n",
            "25/25 [==============================] - 5s 206ms/step - loss: 2.3157 - accuracy: 0.0953 - val_loss: 2.3026 - val_accuracy: 0.1000\n",
            "Epoch 49/50\n",
            "25/25 [==============================] - 5s 207ms/step - loss: 2.3138 - accuracy: 0.1011 - val_loss: 2.3026 - val_accuracy: 0.1000\n",
            "Epoch 50/50\n",
            "25/25 [==============================] - 5s 206ms/step - loss: 2.3178 - accuracy: 0.0983 - val_loss: 2.3026 - val_accuracy: 0.1000\n"
          ],
          "name": "stdout"
        }
      ]
    },
    {
      "cell_type": "code",
      "metadata": {
        "id": "AmDPGMd45QqX",
        "colab": {
          "base_uri": "https://localhost:8080/",
          "height": 385
        },
        "outputId": "6f9dcc81-3d3b-4963-86a9-cf01be444a32"
      },
      "source": [
        "print (\"Train Accuracy 7 =\" , history7.history['accuracy'])\r\n",
        "print(\"Test Accuracy 7 = \" , history7.history['val_accuracy'])\r\n",
        "plt.plot(history7.history['accuracy'], label='accuracy')\r\n",
        "plt.plot(history7.history['val_accuracy'], label = 'val_accuracy')\r\n",
        "plt.title('MODEL 7 - DEEPER WITH MORE EPOCHS')\r\n",
        "plt.xlabel('Epoch')\r\n",
        "plt.ylabel('Accuracy')\r\n",
        "plt.ylim([0.5, 1])\r\n",
        "plt.legend(loc='lower right')\r\n",
        "train_acc7 = np.mean(history7.history['accuracy'])\r\n",
        "test_acc7 = np.mean(history7.history['val_accuracy'])\r\n",
        "print(\"AVERAGE TRAIN ACCURACY =\",train_acc7)\r\n",
        "print(\"AVERAGE TEST ACCURACY =\",test_acc7)"
      ],
      "execution_count": 41,
      "outputs": [
        {
          "output_type": "stream",
          "text": [
            "Train Accuracy 7 = [0.10204000025987625, 0.09905999898910522, 0.09917999804019928, 0.10091999918222427, 0.09989999979734421, 0.09777999669313431, 0.10085999965667725, 0.09799999743700027, 0.10053999722003937, 0.09954000264406204, 0.10238000005483627, 0.09758000075817108, 0.09914000332355499, 0.09831999987363815, 0.098860003054142, 0.10085999965667725, 0.1014999970793724, 0.09929999709129333, 0.09702000021934509, 0.10113999992609024, 0.0995199978351593, 0.10051999986171722, 0.10087999701499939, 0.09957999736070633, 0.09976000338792801, 0.09774000197649002, 0.10056000202894211, 0.10080000013113022, 0.10091999918222427, 0.10041999816894531, 0.10273999720811844, 0.10127999633550644, 0.10096000134944916, 0.1006999984383583, 0.09830000251531601, 0.09914000332355499, 0.09989999979734421, 0.09984000027179718, 0.10080000013113022, 0.10102000087499619, 0.10081999748945236, 0.10119999945163727, 0.09883999824523926, 0.10068000108003616, 0.09827999770641327, 0.09860000014305115, 0.10085999965667725, 0.0979200005531311, 0.09961999952793121, 0.09728000313043594]\n",
            "Test Accuracy 7 =  [0.10000000149011612, 0.10000000149011612, 0.10000000149011612, 0.10000000149011612, 0.10000000149011612, 0.10000000149011612, 0.10000000149011612, 0.10000000149011612, 0.10000000149011612, 0.10000000149011612, 0.10000000149011612, 0.10000000149011612, 0.10000000149011612, 0.10000000149011612, 0.10000000149011612, 0.10000000149011612, 0.10000000149011612, 0.10000000149011612, 0.10000000149011612, 0.10000000149011612, 0.10000000149011612, 0.10000000149011612, 0.10000000149011612, 0.10000000149011612, 0.10000000149011612, 0.10000000149011612, 0.10000000149011612, 0.10000000149011612, 0.10000000149011612, 0.10000000149011612, 0.10000000149011612, 0.10000000149011612, 0.10000000149011612, 0.10000000149011612, 0.10000000149011612, 0.10000000149011612, 0.10000000149011612, 0.10000000149011612, 0.10000000149011612, 0.10000000149011612, 0.10000000149011612, 0.10000000149011612, 0.10000000149011612, 0.10000000149011612, 0.10000000149011612, 0.10000000149011612, 0.10000000149011612, 0.10000000149011612, 0.10000000149011612, 0.10000000149011612]\n",
            "AVERAGE TRAIN ACCURACY = 0.09986799970269203\n",
            "AVERAGE TEST ACCURACY = 0.10000000149011612\n"
          ],
          "name": "stdout"
        },
        {
          "output_type": "display_data",
          "data": {
            "image/png": "[encoded data removed]",
            "text/plain": [
              "<Figure size 432x288 with 1 Axes>"
            ]
          },
          "metadata": {
            "tags": [],
            "needs_background": "light"
          }
        }
      ]
    },
    {
      "cell_type": "markdown",
      "metadata": {
        "id": "A2YZe0U_qxqX"
      },
      "source": [
        "## **MODEL 9 - Using BatchNormalisation , Dropouts and Data Augmentation**"
      ]
    },
    {
      "cell_type": "code",
      "metadata": {
        "id": "MalwudBgrQSV"
      },
      "source": [
        "from keras.models import Sequential\r\n",
        "from tensorflow.keras.layers import Conv2D, MaxPooling2D ,BatchNormalization ,Dropout , Dense, Activation ,Flatten\r\n",
        "from tensorflow.keras.metrics import Precision ,Recall\r\n",
        "model9 = Sequential()\r\n",
        "\r\n",
        "# Convolutional Layer\r\n",
        "model9.add(Conv2D(filters=32, kernel_size=(3, 3), input_shape=(32, 32, 3), activation='relu', padding='same'))\r\n",
        "model9.add(BatchNormalization())\r\n",
        "model9.add(Conv2D(filters=32, kernel_size=(3, 3), input_shape=(32, 32, 3), activation='relu', padding='same'))\r\n",
        "model9.add(BatchNormalization())\r\n",
        "# Pooling layer\r\n",
        "model9.add(MaxPooling2D(pool_size=(2, 2)))\r\n",
        "# Dropout layers\r\n",
        "model9.add(Dropout(0.25))\r\n",
        "\r\n",
        "model9.add(Conv2D(filters=64, kernel_size=(3, 3), input_shape=(32, 32, 3), activation='relu', padding='same'))\r\n",
        "model9.add(BatchNormalization())\r\n",
        "model9.add(Conv2D(filters=64, kernel_size=(3, 3), input_shape=(32, 32, 3), activation='relu', padding='same'))\r\n",
        "model9.add(BatchNormalization())\r\n",
        "model9.add(MaxPooling2D(pool_size=(2, 2)))\r\n",
        "model9.add(Dropout(0.25))\r\n",
        "\r\n",
        "model9.add(Conv2D(filters=128, kernel_size=(3, 3), input_shape=(32, 32, 3), activation='relu', padding='same'))\r\n",
        "model9.add(BatchNormalization())\r\n",
        "model9.add(Conv2D(filters=128, kernel_size=(3, 3), input_shape=(32, 32, 3), activation='relu', padding='same'))\r\n",
        "model9.add(BatchNormalization())\r\n",
        "model9.add(MaxPooling2D(pool_size=(2, 2)))\r\n",
        "model9.add(Dropout(0.25))\r\n",
        "\r\n",
        "model9.add(Flatten())\r\n",
        "# model.add(Dropout(0.2))\r\n",
        "model9.add(Dense(128, activation='relu'))\r\n",
        "model9.add(Dropout(0.25))\r\n",
        "model9.add(Dense(10, activation='softmax'))\r\n",
        "\r\n",
        "METRICS = [\r\n",
        "    'accuracy',\r\n",
        "    Precision(name='precision'),\r\n",
        "    Recall(name='recall')\r\n",
        "]\r\n",
        "model9.compile(loss='categorical_crossentropy', optimizer='adam', metrics=METRICS)"
      ],
      "execution_count": 42,
      "outputs": []
    },
    {
      "cell_type": "code",
      "metadata": {
        "id": "6TBqkfwirQKG"
      },
      "source": [
        "from tensorflow.keras.preprocessing.image import ImageDataGenerator"
      ],
      "execution_count": 43,
      "outputs": []
    },
    {
      "cell_type": "code",
      "metadata": {
        "id": "9FC2FcPdP8tz"
      },
      "source": [
        "from tensorflow.keras.utils import to_categorical\r\n",
        "(train_images, train_labels), (test_images, test_labels) = data.load_data()\r\n",
        "# (X_train, y_train), (X_test, y_test) = cifar10.load_data()\r\n",
        "y_cat_train = to_categorical(train_labels, 10)\r\n",
        "y_cat_test = to_categorical(test_labels, 10)"
      ],
      "execution_count": 44,
      "outputs": []
    },
    {
      "cell_type": "code",
      "metadata": {
        "id": "IDSL6a6fPnV9"
      },
      "source": [
        "batch_size = 32\r\n",
        "data_generator = ImageDataGenerator(width_shift_range=0.1, height_shift_range=0.1, horizontal_flip=True)\r\n",
        "train_generator = data_generator.flow(train_images, y_cat_train, batch_size)\r\n",
        "steps_per_epoch = train_images.shape[0] // batch_size"
      ],
      "execution_count": 45,
      "outputs": []
    },
    {
      "cell_type": "code",
      "metadata": {
        "id": "P7ZrxcdbRdzP",
        "colab": {
          "base_uri": "https://localhost:8080/"
        },
        "outputId": "5a0a8af2-f097-4e93-a3d5-d112a383bbc3"
      },
      "source": [
        "y_cat_test.shape\r\n"
      ],
      "execution_count": 46,
      "outputs": [
        {
          "output_type": "execute_result",
          "data": {
            "text/plain": [
              "(10000, 10)"
            ]
          },
          "metadata": {
            "tags": []
          },
          "execution_count": 46
        }
      ]
    },
    {
      "cell_type": "code",
      "metadata": {
        "id": "JxEWx1f1RuNi",
        "colab": {
          "base_uri": "https://localhost:8080/"
        },
        "outputId": "e68a09e7-2d06-4a57-fd92-28561b6455b6"
      },
      "source": [
        "test_labels.shape"
      ],
      "execution_count": 47,
      "outputs": [
        {
          "output_type": "execute_result",
          "data": {
            "text/plain": [
              "(10000, 1)"
            ]
          },
          "metadata": {
            "tags": []
          },
          "execution_count": 47
        }
      ]
    },
    {
      "cell_type": "code",
      "metadata": {
        "id": "8kaiYRWrPm9l",
        "colab": {
          "base_uri": "https://localhost:8080/"
        },
        "outputId": "2f5f4f02-8048-4f71-c441-4ab04e5b60c8"
      },
      "source": [
        "history9 = model9.fit(train_generator, \r\n",
        "              epochs=50,\r\n",
        "              steps_per_epoch=steps_per_epoch,\r\n",
        "              validation_data=(test_images, y_cat_test)\r\n",
        "             )"
      ],
      "execution_count": 48,
      "outputs": [
        {
          "output_type": "stream",
          "text": [
            "Epoch 1/50\n",
            "1562/1562 [==============================] - 32s 20ms/step - loss: 1.9270 - accuracy: 0.3293 - precision: 0.5135 - recall: 0.1251 - val_loss: 1.3720 - val_accuracy: 0.4896 - val_precision: 0.6650 - val_recall: 0.3377\n",
            "Epoch 2/50\n",
            "1562/1562 [==============================] - 31s 20ms/step - loss: 1.2993 - accuracy: 0.5365 - precision: 0.7040 - recall: 0.3580 - val_loss: 1.2281 - val_accuracy: 0.5884 - val_precision: 0.7045 - val_recall: 0.4750\n",
            "Epoch 3/50\n",
            "1562/1562 [==============================] - 30s 19ms/step - loss: 1.0931 - accuracy: 0.6185 - precision: 0.7539 - recall: 0.4742 - val_loss: 0.9184 - val_accuracy: 0.6805 - val_precision: 0.7739 - val_recall: 0.5916\n",
            "Epoch 4/50\n",
            "1562/1562 [==============================] - 31s 20ms/step - loss: 0.9718 - accuracy: 0.6646 - precision: 0.7884 - recall: 0.5446 - val_loss: 0.8713 - val_accuracy: 0.7004 - val_precision: 0.7911 - val_recall: 0.6199\n",
            "Epoch 5/50\n",
            "1562/1562 [==============================] - 31s 20ms/step - loss: 0.8850 - accuracy: 0.6943 - precision: 0.8054 - recall: 0.5892 - val_loss: 0.8953 - val_accuracy: 0.7096 - val_precision: 0.8111 - val_recall: 0.6253\n",
            "Epoch 6/50\n",
            "1562/1562 [==============================] - 31s 20ms/step - loss: 0.8298 - accuracy: 0.7167 - precision: 0.8178 - recall: 0.6218 - val_loss: 0.6946 - val_accuracy: 0.7658 - val_precision: 0.8496 - val_recall: 0.6846\n",
            "Epoch 7/50\n",
            "1562/1562 [==============================] - 31s 20ms/step - loss: 0.7793 - accuracy: 0.7358 - precision: 0.8274 - recall: 0.6486 - val_loss: 0.6968 - val_accuracy: 0.7687 - val_precision: 0.8446 - val_recall: 0.7033\n",
            "Epoch 8/50\n",
            "1562/1562 [==============================] - 30s 19ms/step - loss: 0.7266 - accuracy: 0.7521 - precision: 0.8373 - recall: 0.6717 - val_loss: 0.9484 - val_accuracy: 0.7114 - val_precision: 0.7774 - val_recall: 0.6556\n",
            "Epoch 9/50\n",
            "1562/1562 [==============================] - 30s 19ms/step - loss: 0.7122 - accuracy: 0.7594 - precision: 0.8413 - recall: 0.6831 - val_loss: 0.5801 - val_accuracy: 0.8045 - val_precision: 0.8661 - val_recall: 0.7505\n",
            "Epoch 10/50\n",
            "1562/1562 [==============================] - 31s 20ms/step - loss: 0.6641 - accuracy: 0.7749 - precision: 0.8535 - recall: 0.7048 - val_loss: 0.5894 - val_accuracy: 0.8068 - val_precision: 0.8575 - val_recall: 0.7607\n",
            "Epoch 11/50\n",
            "1562/1562 [==============================] - 30s 19ms/step - loss: 0.6457 - accuracy: 0.7846 - precision: 0.8521 - recall: 0.7154 - val_loss: 0.5595 - val_accuracy: 0.8063 - val_precision: 0.8702 - val_recall: 0.7604\n",
            "Epoch 12/50\n",
            "1562/1562 [==============================] - 31s 20ms/step - loss: 0.6259 - accuracy: 0.7853 - precision: 0.8555 - recall: 0.7227 - val_loss: 0.6024 - val_accuracy: 0.8017 - val_precision: 0.8559 - val_recall: 0.7602\n",
            "Epoch 13/50\n",
            "1562/1562 [==============================] - 31s 20ms/step - loss: 0.6011 - accuracy: 0.7942 - precision: 0.8632 - recall: 0.7347 - val_loss: 0.5813 - val_accuracy: 0.8103 - val_precision: 0.8593 - val_recall: 0.7704\n",
            "Epoch 14/50\n",
            "1562/1562 [==============================] - 31s 20ms/step - loss: 0.5818 - accuracy: 0.8004 - precision: 0.8638 - recall: 0.7445 - val_loss: 0.5154 - val_accuracy: 0.8295 - val_precision: 0.8790 - val_recall: 0.7831\n",
            "Epoch 15/50\n",
            "1562/1562 [==============================] - 31s 20ms/step - loss: 0.5644 - accuracy: 0.8074 - precision: 0.8706 - recall: 0.7512 - val_loss: 0.5322 - val_accuracy: 0.8241 - val_precision: 0.8731 - val_recall: 0.7786\n",
            "Epoch 16/50\n",
            "1562/1562 [==============================] - 30s 19ms/step - loss: 0.5571 - accuracy: 0.8119 - precision: 0.8690 - recall: 0.7547 - val_loss: 0.5407 - val_accuracy: 0.8272 - val_precision: 0.8780 - val_recall: 0.7846\n",
            "Epoch 17/50\n",
            "1562/1562 [==============================] - 31s 20ms/step - loss: 0.5296 - accuracy: 0.8200 - precision: 0.8759 - recall: 0.7676 - val_loss: 0.5356 - val_accuracy: 0.8217 - val_precision: 0.8755 - val_recall: 0.7777\n",
            "Epoch 18/50\n",
            "1562/1562 [==============================] - 31s 20ms/step - loss: 0.5289 - accuracy: 0.8203 - precision: 0.8761 - recall: 0.7705 - val_loss: 0.4900 - val_accuracy: 0.8382 - val_precision: 0.8801 - val_recall: 0.8005\n",
            "Epoch 19/50\n",
            "1562/1562 [==============================] - 31s 20ms/step - loss: 0.5179 - accuracy: 0.8230 - precision: 0.8788 - recall: 0.7733 - val_loss: 0.5615 - val_accuracy: 0.8197 - val_precision: 0.8640 - val_recall: 0.7824\n",
            "Epoch 20/50\n",
            "1562/1562 [==============================] - 30s 20ms/step - loss: 0.5006 - accuracy: 0.8289 - precision: 0.8833 - recall: 0.7827 - val_loss: 0.4921 - val_accuracy: 0.8367 - val_precision: 0.8831 - val_recall: 0.7980\n",
            "Epoch 21/50\n",
            "1562/1562 [==============================] - 31s 20ms/step - loss: 0.4873 - accuracy: 0.8333 - precision: 0.8848 - recall: 0.7879 - val_loss: 0.5144 - val_accuracy: 0.8346 - val_precision: 0.8764 - val_recall: 0.8026\n",
            "Epoch 22/50\n",
            "1562/1562 [==============================] - 31s 20ms/step - loss: 0.4907 - accuracy: 0.8335 - precision: 0.8831 - recall: 0.7870 - val_loss: 0.4904 - val_accuracy: 0.8359 - val_precision: 0.8762 - val_recall: 0.8015\n",
            "Epoch 23/50\n",
            "1562/1562 [==============================] - 31s 20ms/step - loss: 0.4804 - accuracy: 0.8357 - precision: 0.8861 - recall: 0.7890 - val_loss: 0.4708 - val_accuracy: 0.8425 - val_precision: 0.8806 - val_recall: 0.8114\n",
            "Epoch 24/50\n",
            "1562/1562 [==============================] - 30s 19ms/step - loss: 0.4690 - accuracy: 0.8402 - precision: 0.8896 - recall: 0.7982 - val_loss: 0.4482 - val_accuracy: 0.8496 - val_precision: 0.8887 - val_recall: 0.8163\n",
            "Epoch 25/50\n",
            "1562/1562 [==============================] - 31s 20ms/step - loss: 0.4631 - accuracy: 0.8401 - precision: 0.8888 - recall: 0.7978 - val_loss: 0.4320 - val_accuracy: 0.8540 - val_precision: 0.8909 - val_recall: 0.8223\n",
            "Epoch 26/50\n",
            "1562/1562 [==============================] - 31s 20ms/step - loss: 0.4507 - accuracy: 0.8458 - precision: 0.8938 - recall: 0.8062 - val_loss: 0.4602 - val_accuracy: 0.8481 - val_precision: 0.8810 - val_recall: 0.8214\n",
            "Epoch 27/50\n",
            "1562/1562 [==============================] - 31s 20ms/step - loss: 0.4460 - accuracy: 0.8498 - precision: 0.8946 - recall: 0.8100 - val_loss: 0.4247 - val_accuracy: 0.8589 - val_precision: 0.8944 - val_recall: 0.8299\n",
            "Epoch 28/50\n",
            "1562/1562 [==============================] - 31s 20ms/step - loss: 0.4417 - accuracy: 0.8494 - precision: 0.8941 - recall: 0.8116 - val_loss: 0.4220 - val_accuracy: 0.8610 - val_precision: 0.8929 - val_recall: 0.8297\n",
            "Epoch 29/50\n",
            "1562/1562 [==============================] - 31s 20ms/step - loss: 0.4344 - accuracy: 0.8537 - precision: 0.8967 - recall: 0.8157 - val_loss: 0.4665 - val_accuracy: 0.8474 - val_precision: 0.8828 - val_recall: 0.8169\n",
            "Epoch 30/50\n",
            "1562/1562 [==============================] - 31s 20ms/step - loss: 0.4261 - accuracy: 0.8519 - precision: 0.8960 - recall: 0.8150 - val_loss: 0.4109 - val_accuracy: 0.8624 - val_precision: 0.8974 - val_recall: 0.8374\n",
            "Epoch 31/50\n",
            "1562/1562 [==============================] - 31s 20ms/step - loss: 0.4202 - accuracy: 0.8555 - precision: 0.8974 - recall: 0.8204 - val_loss: 0.4739 - val_accuracy: 0.8498 - val_precision: 0.8869 - val_recall: 0.8175\n",
            "Epoch 32/50\n",
            "1562/1562 [==============================] - 31s 20ms/step - loss: 0.4256 - accuracy: 0.8550 - precision: 0.8933 - recall: 0.8179 - val_loss: 0.4575 - val_accuracy: 0.8517 - val_precision: 0.8880 - val_recall: 0.8226\n",
            "Epoch 33/50\n",
            "1562/1562 [==============================] - 31s 20ms/step - loss: 0.4224 - accuracy: 0.8562 - precision: 0.8984 - recall: 0.8190 - val_loss: 0.4441 - val_accuracy: 0.8567 - val_precision: 0.8903 - val_recall: 0.8274\n",
            "Epoch 34/50\n",
            "1562/1562 [==============================] - 31s 20ms/step - loss: 0.4099 - accuracy: 0.8604 - precision: 0.9001 - recall: 0.8245 - val_loss: 0.4059 - val_accuracy: 0.8604 - val_precision: 0.8995 - val_recall: 0.8263\n",
            "Epoch 35/50\n",
            "1562/1562 [==============================] - 31s 20ms/step - loss: 0.3994 - accuracy: 0.8605 - precision: 0.9007 - recall: 0.8264 - val_loss: 0.4213 - val_accuracy: 0.8576 - val_precision: 0.8943 - val_recall: 0.8328\n",
            "Epoch 36/50\n",
            "1562/1562 [==============================] - 31s 20ms/step - loss: 0.4067 - accuracy: 0.8613 - precision: 0.9010 - recall: 0.8269 - val_loss: 0.4253 - val_accuracy: 0.8611 - val_precision: 0.8932 - val_recall: 0.8361\n",
            "Epoch 37/50\n",
            "1562/1562 [==============================] - 31s 20ms/step - loss: 0.4008 - accuracy: 0.8625 - precision: 0.8991 - recall: 0.8309 - val_loss: 0.4285 - val_accuracy: 0.8636 - val_precision: 0.8912 - val_recall: 0.8390\n",
            "Epoch 38/50\n",
            "1562/1562 [==============================] - 31s 20ms/step - loss: 0.3941 - accuracy: 0.8647 - precision: 0.9024 - recall: 0.8326 - val_loss: 0.4065 - val_accuracy: 0.8676 - val_precision: 0.8989 - val_recall: 0.8408\n",
            "Epoch 39/50\n",
            "1562/1562 [==============================] - 31s 20ms/step - loss: 0.3958 - accuracy: 0.8617 - precision: 0.9008 - recall: 0.8298 - val_loss: 0.3788 - val_accuracy: 0.8737 - val_precision: 0.9060 - val_recall: 0.8480\n",
            "Epoch 40/50\n",
            "1562/1562 [==============================] - 31s 20ms/step - loss: 0.3912 - accuracy: 0.8659 - precision: 0.9044 - recall: 0.8318 - val_loss: 0.3910 - val_accuracy: 0.8707 - val_precision: 0.9041 - val_recall: 0.8412\n",
            "Epoch 41/50\n",
            "1562/1562 [==============================] - 31s 20ms/step - loss: 0.3799 - accuracy: 0.8707 - precision: 0.9064 - recall: 0.8370 - val_loss: 0.4396 - val_accuracy: 0.8621 - val_precision: 0.8898 - val_recall: 0.8372\n",
            "Epoch 42/50\n",
            "1562/1562 [==============================] - 31s 20ms/step - loss: 0.3842 - accuracy: 0.8682 - precision: 0.9031 - recall: 0.8364 - val_loss: 0.4295 - val_accuracy: 0.8568 - val_precision: 0.8943 - val_recall: 0.8308\n",
            "Epoch 43/50\n",
            "1562/1562 [==============================] - 31s 20ms/step - loss: 0.3733 - accuracy: 0.8728 - precision: 0.9079 - recall: 0.8403 - val_loss: 0.3871 - val_accuracy: 0.8725 - val_precision: 0.9033 - val_recall: 0.8477\n",
            "Epoch 44/50\n",
            "1562/1562 [==============================] - 31s 20ms/step - loss: 0.3792 - accuracy: 0.8692 - precision: 0.9045 - recall: 0.8372 - val_loss: 0.3808 - val_accuracy: 0.8736 - val_precision: 0.9028 - val_recall: 0.8489\n",
            "Epoch 45/50\n",
            "1562/1562 [==============================] - 31s 20ms/step - loss: 0.3744 - accuracy: 0.8718 - precision: 0.9072 - recall: 0.8408 - val_loss: 0.4304 - val_accuracy: 0.8671 - val_precision: 0.8902 - val_recall: 0.8502\n",
            "Epoch 46/50\n",
            "1562/1562 [==============================] - 31s 20ms/step - loss: 0.3680 - accuracy: 0.8735 - precision: 0.9076 - recall: 0.8459 - val_loss: 0.3663 - val_accuracy: 0.8781 - val_precision: 0.9061 - val_recall: 0.8527\n",
            "Epoch 47/50\n",
            "1562/1562 [==============================] - 32s 20ms/step - loss: 0.3724 - accuracy: 0.8715 - precision: 0.9072 - recall: 0.8423 - val_loss: 0.3785 - val_accuracy: 0.8766 - val_precision: 0.9049 - val_recall: 0.8537\n",
            "Epoch 48/50\n",
            "1562/1562 [==============================] - 31s 20ms/step - loss: 0.3672 - accuracy: 0.8738 - precision: 0.9090 - recall: 0.8443 - val_loss: 0.4221 - val_accuracy: 0.8638 - val_precision: 0.8916 - val_recall: 0.8430\n",
            "Epoch 49/50\n",
            "1562/1562 [==============================] - 31s 20ms/step - loss: 0.3536 - accuracy: 0.8794 - precision: 0.9108 - recall: 0.8502 - val_loss: 0.3894 - val_accuracy: 0.8729 - val_precision: 0.8985 - val_recall: 0.8543\n",
            "Epoch 50/50\n",
            "1562/1562 [==============================] - 31s 20ms/step - loss: 0.3640 - accuracy: 0.8720 - precision: 0.9071 - recall: 0.8414 - val_loss: 0.3584 - val_accuracy: 0.8798 - val_precision: 0.9099 - val_recall: 0.8527\n"
          ],
          "name": "stdout"
        }
      ]
    },
    {
      "cell_type": "code",
      "metadata": {
        "id": "9N3gPftvPm2w",
        "colab": {
          "base_uri": "https://localhost:8080/",
          "height": 385
        },
        "outputId": "79fb9830-ebad-42de-c076-e41aeaf3a4ec"
      },
      "source": [
        "print (\"Train Accuracy 9 =\" , history9.history['accuracy'])\r\n",
        "print(\"Test Accuracy 9 = \" , history9.history['val_accuracy'])\r\n",
        "plt.plot(history9.history['accuracy'], label='accuracy')\r\n",
        "plt.plot(history9.history['val_accuracy'], label = 'val_accuracy')\r\n",
        "plt.title('MODEL 9 - REDUCING OVERFITTING')\r\n",
        "plt.xlabel('Epoch')\r\n",
        "plt.ylabel('Accuracy')\r\n",
        "plt.ylim([0.5, 1])\r\n",
        "plt.legend(loc='lower right')\r\n",
        "train_acc9 = np.mean(history9.history['accuracy'])\r\n",
        "test_acc9 = np.mean(history9.history['val_accuracy'])\r\n",
        "print(\"AVERAGE TRAIN ACCURACY =\",train_acc9)\r\n",
        "print(\"AVERAGE TEST ACCURACY =\",test_acc9)"
      ],
      "execution_count": 49,
      "outputs": [
        {
          "output_type": "stream",
          "text": [
            "Train Accuracy 9 = [0.40371838212013245, 0.5565962195396423, 0.6294228434562683, 0.6716698408126831, 0.7004482746124268, 0.721141517162323, 0.7388128638267517, 0.751641035079956, 0.7623879313468933, 0.773895263671875, 0.7813200354576111, 0.7860230803489685, 0.7946285605430603, 0.7989713549613953, 0.8056156039237976, 0.8103786706924438, 0.8177633881568909, 0.8195044994354248, 0.8250080347061157, 0.8269892930984497, 0.8320124745368958, 0.8336535096168518, 0.8343740105628967, 0.8408381342887878, 0.8409982323646545, 0.8450407981872559, 0.846962034702301, 0.8478826284408569, 0.8505443334579468, 0.8504642844200134, 0.8527257442474365, 0.8550072312355042, 0.857088565826416, 0.8567883372306824, 0.8605907559394836, 0.8610110282897949, 0.8629322648048401, 0.8641530871391296, 0.8622718453407288, 0.8654538989067078, 0.8673350811004639, 0.8670549392700195, 0.8685758709907532, 0.8697566390037537, 0.870997428894043, 0.8720981478691101, 0.872058093547821, 0.8723382949829102, 0.8760406374931335, 0.8723382949829102]\n",
            "Test Accuracy 9 =  [0.4896000027656555, 0.5884000062942505, 0.6804999709129333, 0.7003999948501587, 0.7095999717712402, 0.7657999992370605, 0.7687000036239624, 0.7113999724388123, 0.8044999837875366, 0.8068000078201294, 0.8062999844551086, 0.8016999959945679, 0.8102999925613403, 0.8295000195503235, 0.8241000175476074, 0.8271999955177307, 0.8216999769210815, 0.8381999731063843, 0.8197000026702881, 0.8367000222206116, 0.8345999717712402, 0.8359000086784363, 0.8424999713897705, 0.8496000170707703, 0.8539999723434448, 0.8481000065803528, 0.8589000105857849, 0.8610000014305115, 0.8474000096321106, 0.8623999953269958, 0.8497999906539917, 0.8517000079154968, 0.8567000031471252, 0.8604000210762024, 0.8575999736785889, 0.8611000180244446, 0.8636000156402588, 0.8676000237464905, 0.8737000226974487, 0.8707000017166138, 0.8621000051498413, 0.8568000197410583, 0.8725000023841858, 0.8736000061035156, 0.8671000003814697, 0.8780999779701233, 0.8766000270843506, 0.8637999892234802, 0.8729000091552734, 0.879800021648407]\n",
            "AVERAGE TRAIN ACCURACY = 0.8101064664125442\n",
            "AVERAGE TEST ACCURACY = 0.8210339999198913\n"
          ],
          "name": "stdout"
        },
        {
          "output_type": "display_data",
          "data": {
            "image/png": "[encoded data removed]",
            "text/plain": [
              "<Figure size 432x288 with 1 Axes>"
            ]
          },
          "metadata": {
            "tags": [],
            "needs_background": "light"
          }
        }
      ]
    },
    {
      "cell_type": "code",
      "metadata": {
        "id": "3Io4f4UnPmwG",
        "colab": {
          "base_uri": "https://localhost:8080/",
          "height": 480
        },
        "outputId": "e5168410-00a8-4884-8c3e-8120bc742c1e"
      },
      "source": [
        "plt.figure(figsize=(12, 16))\r\n",
        "\r\n",
        "plt.subplot(4, 2, 1)\r\n",
        "plt.plot(history9.history['loss'], label='Loss')\r\n",
        "plt.plot(history9.history['val_loss'], label='val_Loss')\r\n",
        "plt.title('Loss Function Evolution')\r\n",
        "plt.legend()\r\n",
        "\r\n",
        "plt.subplot(4, 2, 2)\r\n",
        "plt.plot(history9.history['accuracy'], label='accuracy')\r\n",
        "plt.plot(history9.history['val_accuracy'], label='val_accuracy')\r\n",
        "plt.title('Accuracy Function Evolution')\r\n",
        "plt.legend()\r\n",
        "\r\n",
        "plt.subplot(4, 2, 3)\r\n",
        "plt.plot(history9.history['precision'], label='precision')\r\n",
        "plt.plot(history9.history['val_precision'], label='val_precision')\r\n",
        "plt.title('Precision Function Evolution')\r\n",
        "plt.legend()\r\n",
        "\r\n",
        "plt.subplot(4, 2, 4)\r\n",
        "plt.plot(history9.history['recall'], label='recall')\r\n",
        "plt.plot(history9.history['val_recall'], label='val_recall')\r\n",
        "plt.title('Recall Function Evolution')\r\n",
        "plt.legend()\r\n",
        "\r\n",
        "\r\n",
        "plt.show()"
      ],
      "execution_count": 51,
      "outputs": [
        {
          "output_type": "display_data",
          "data": {
            "image/png": "[encoded data removed]",
            "text/plain": [
              "<Figure size 864x1152 with 4 Axes>"
            ]
          },
          "metadata": {
            "tags": [],
            "needs_background": "light"
          }
        }
      ]
    },
    {
      "cell_type": "code",
      "metadata": {
        "id": "jY973hm5mBZ4",
        "colab": {
          "base_uri": "https://localhost:8080/"
        },
        "outputId": "aae79f7f-c276-49d9-9977-ca67112a279c"
      },
      "source": [
        "Model_Accuracy = model9.evaluate(test_images, y_cat_test)\r\n",
        "print('MODEL 9 Test Accuracy :',Model_Accuracy[1])"
      ],
      "execution_count": 54,
      "outputs": [
        {
          "output_type": "stream",
          "text": [
            "313/313 [==============================] - 2s 5ms/step - loss: 0.3584 - accuracy: 0.8798 - precision: 0.9099 - recall: 0.8527\n",
            "MODEL 9 Test Accuracy : 0.879800021648407\n"
          ],
          "name": "stdout"
        }
      ]
    },
    {
      "cell_type": "code",
      "metadata": {
        "id": "HRofIbukmBUh"
      },
      "source": [
        ""
      ],
      "execution_count": null,
      "outputs": []
    },
    {
      "cell_type": "code",
      "metadata": {
        "id": "IEhXtjoEmBSG"
      },
      "source": [
        ""
      ],
      "execution_count": null,
      "outputs": []
    },
    {
      "cell_type": "code",
      "metadata": {
        "id": "ZZyrJqDqmBP_"
      },
      "source": [
        ""
      ],
      "execution_count": null,
      "outputs": []
    },
    {
      "cell_type": "code",
      "metadata": {
        "id": "oMmdB1l-mBLt"
      },
      "source": [
        ""
      ],
      "execution_count": null,
      "outputs": []
    },
    {
      "cell_type": "code",
      "metadata": {
        "id": "x3xyRpfMmBD4"
      },
      "source": [
        ""
      ],
      "execution_count": null,
      "outputs": []
    },
    {
      "cell_type": "code",
      "metadata": {
        "id": "57-LGvoAmAz0"
      },
      "source": [
        ""
      ],
      "execution_count": null,
      "outputs": []
    },
    {
      "cell_type": "code",
      "metadata": {
        "id": "Yi2ivl_BmAxV"
      },
      "source": [
        ""
      ],
      "execution_count": null,
      "outputs": []
    },
    {
      "cell_type": "code",
      "metadata": {
        "id": "p4B5nRxXmAuX"
      },
      "source": [
        ""
      ],
      "execution_count": null,
      "outputs": []
    },
    {
      "cell_type": "code",
      "metadata": {
        "id": "cFxmTTYymArE"
      },
      "source": [
        ""
      ],
      "execution_count": null,
      "outputs": []
    },
    {
      "cell_type": "code",
      "metadata": {
        "id": "kK-_SulHR-xi"
      },
      "source": [
        ""
      ],
      "execution_count": null,
      "outputs": []
    }
  ]
}